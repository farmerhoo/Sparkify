{
 "cells": [
  {
   "cell_type": "markdown",
   "metadata": {},
   "source": [
    "# Sparkify 项目 Workspace\n",
    "这个 Workspace 包括一个迷你的子数据集（128MB），是完整数据集（12GB）的一个子集。在将你的项目部署到云上之前，你可以自由使用 Workspace 来创建你的项目或用Spark来探索这个较小数据集。设置 Spark 集群的指南可以在选修 Spark 课程的内容里找到。\n",
    "\n",
    "你可以依照下面的步骤进行项目的数据分析和模型搭建部分。"
   ]
  },
  {
   "cell_type": "markdown",
   "metadata": {},
   "source": [
    "# 1. 导入相关库"
   ]
  },
  {
   "cell_type": "code",
   "execution_count": 1,
   "metadata": {},
   "outputs": [],
   "source": [
    "# import libraries\n",
    "from pyspark.sql import SparkSession\n",
    "from pyspark.sql import Window\n",
    "from pyspark.sql.functions import avg, col, concat, desc, asc, explode, lit, split, udf, count, isnan, countDistinct\n",
    "from pyspark.sql.functions import min as Fmin\n",
    "from pyspark.sql.functions import max as Fmax\n",
    "from pyspark.sql.functions import sum as Fsum\n",
    "from pyspark.sql.types import IntegerType, StringType\n",
    "\n",
    "from pyspark.ml.feature import CountVectorizer, VectorAssembler, IDF, RegexTokenizer, PCA, Normalizer, StandardScaler, OneHotEncoder, StringIndexer\n",
    "from pyspark.ml import Pipeline\n",
    "from pyspark.ml.classification import LogisticRegression, RandomForestClassifier, GBTClassifier, LinearSVC\n",
    "from pyspark.ml.evaluation import BinaryClassificationEvaluator, BinaryClassificationEvaluator\n",
    "from pyspark.ml.tuning import CrossValidator, ParamGridBuilder\n",
    "from pyspark.ml import Pipeline\n",
    "\n",
    "import matplotlib.pyplot as plt\n",
    "import numpy as np\n",
    "import pandas as pd\n",
    "import datetime\n",
    "import re"
   ]
  },
  {
   "cell_type": "code",
   "execution_count": 2,
   "metadata": {},
   "outputs": [],
   "source": [
    "# create a Spark session\n",
    "spark = SparkSession.builder \\\n",
    "    .appName('Sparkify') \\\n",
    "    .getOrCreate()"
   ]
  },
  {
   "cell_type": "markdown",
   "metadata": {},
   "source": [
    "# 2. 加载和清洗数据\n",
    "在这个 Workspace 中，小数据集的名称是 `mini_sparkify_event_data.json`.加载和清洗数据集，检查是否有无效或缺失数据——例如，没有userid或sessionid的数据。 "
   ]
  },
  {
   "cell_type": "markdown",
   "metadata": {},
   "source": [
    "## 2.1 加载数据和初步查看数据"
   ]
  },
  {
   "cell_type": "code",
   "execution_count": 3,
   "metadata": {},
   "outputs": [
    {
     "data": {
      "text/plain": [
       "DataFrame[artist: string, auth: string, firstName: string, gender: string, itemInSession: bigint, lastName: string, length: double, level: string, location: string, method: string, page: string, registration: bigint, sessionId: bigint, song: string, status: bigint, ts: bigint, userAgent: string, userId: string]"
      ]
     },
     "execution_count": 3,
     "metadata": {},
     "output_type": "execute_result"
    }
   ],
   "source": [
    "# 加载数据\n",
    "path = 'mini_sparkify_event_data.json'\n",
    "df = spark.read.json(path)\n",
    "df.persist()"
   ]
  },
  {
   "cell_type": "code",
   "execution_count": 4,
   "metadata": {},
   "outputs": [
    {
     "data": {
      "text/plain": [
       "286500"
      ]
     },
     "execution_count": 4,
     "metadata": {},
     "output_type": "execute_result"
    }
   ],
   "source": [
    "# 查看数据的总行数\n",
    "df.count()"
   ]
  },
  {
   "cell_type": "code",
   "execution_count": 5,
   "metadata": {},
   "outputs": [
    {
     "data": {
      "text/plain": [
       "18"
      ]
     },
     "execution_count": 5,
     "metadata": {},
     "output_type": "execute_result"
    }
   ],
   "source": [
    "# 查看数据的总列数\n",
    "len(df.columns)"
   ]
  },
  {
   "cell_type": "code",
   "execution_count": 6,
   "metadata": {},
   "outputs": [
    {
     "name": "stdout",
     "output_type": "stream",
     "text": [
      "root\n",
      " |-- artist: string (nullable = true)\n",
      " |-- auth: string (nullable = true)\n",
      " |-- firstName: string (nullable = true)\n",
      " |-- gender: string (nullable = true)\n",
      " |-- itemInSession: long (nullable = true)\n",
      " |-- lastName: string (nullable = true)\n",
      " |-- length: double (nullable = true)\n",
      " |-- level: string (nullable = true)\n",
      " |-- location: string (nullable = true)\n",
      " |-- method: string (nullable = true)\n",
      " |-- page: string (nullable = true)\n",
      " |-- registration: long (nullable = true)\n",
      " |-- sessionId: long (nullable = true)\n",
      " |-- song: string (nullable = true)\n",
      " |-- status: long (nullable = true)\n",
      " |-- ts: long (nullable = true)\n",
      " |-- userAgent: string (nullable = true)\n",
      " |-- userId: string (nullable = true)\n",
      "\n"
     ]
    }
   ],
   "source": [
    "# 查看数据的shema\n",
    "df.printSchema()"
   ]
  },
  {
   "cell_type": "code",
   "execution_count": 7,
   "metadata": {},
   "outputs": [
    {
     "name": "stdout",
     "output_type": "stream",
     "text": [
      "+----------------+---------+---------+------+-------------+--------+---------+-----+------------------------------+------+--------+-------------+---------+-----------------------------+------+-------------+---------------------------------------------------------------------------------------------------------------+------+\n",
      "|artist          |auth     |firstName|gender|itemInSession|lastName|length   |level|location                      |method|page    |registration |sessionId|song                         |status|ts           |userAgent                                                                                                      |userId|\n",
      "+----------------+---------+---------+------+-------------+--------+---------+-----+------------------------------+------+--------+-------------+---------+-----------------------------+------+-------------+---------------------------------------------------------------------------------------------------------------+------+\n",
      "|Martha Tilston  |Logged In|Colin    |M     |50           |Freeman |277.89016|paid |Bakersfield, CA               |PUT   |NextSong|1538173362000|29       |Rockpools                    |200   |1538352117000|Mozilla/5.0 (Windows NT 6.1; WOW64; rv:31.0) Gecko/20100101 Firefox/31.0                                       |30    |\n",
      "|Five Iron Frenzy|Logged In|Micah    |M     |79           |Long    |236.09424|free |Boston-Cambridge-Newton, MA-NH|PUT   |NextSong|1538331630000|8        |Canada                       |200   |1538352180000|\"Mozilla/5.0 (Windows NT 6.1; WOW64) AppleWebKit/537.36 (KHTML, like Gecko) Chrome/37.0.2062.103 Safari/537.36\"|9     |\n",
      "|Adam Lambert    |Logged In|Colin    |M     |51           |Freeman |282.8273 |paid |Bakersfield, CA               |PUT   |NextSong|1538173362000|29       |Time For Miracles            |200   |1538352394000|Mozilla/5.0 (Windows NT 6.1; WOW64; rv:31.0) Gecko/20100101 Firefox/31.0                                       |30    |\n",
      "|Enigma          |Logged In|Micah    |M     |80           |Long    |262.71302|free |Boston-Cambridge-Newton, MA-NH|PUT   |NextSong|1538331630000|8        |Knocking On Forbidden Doors  |200   |1538352416000|\"Mozilla/5.0 (Windows NT 6.1; WOW64) AppleWebKit/537.36 (KHTML, like Gecko) Chrome/37.0.2062.103 Safari/537.36\"|9     |\n",
      "|Daft Punk       |Logged In|Colin    |M     |52           |Freeman |223.60771|paid |Bakersfield, CA               |PUT   |NextSong|1538173362000|29       |Harder Better Faster Stronger|200   |1538352676000|Mozilla/5.0 (Windows NT 6.1; WOW64; rv:31.0) Gecko/20100101 Firefox/31.0                                       |30    |\n",
      "+----------------+---------+---------+------+-------------+--------+---------+-----+------------------------------+------+--------+-------------+---------+-----------------------------+------+-------------+---------------------------------------------------------------------------------------------------------------+------+\n",
      "only showing top 5 rows\n",
      "\n"
     ]
    }
   ],
   "source": [
    "df.show(5, truncate=False)"
   ]
  },
  {
   "cell_type": "markdown",
   "metadata": {},
   "source": [
    "总结以上初步查看数据的结果：\n",
    "\n",
    "1. 数据总大小：\n",
    "$ 286500 \\times 18$\n",
    "\n",
    "2. 总结初步查看数据后，按照数值型数据和类别型数据给出每列数据的含义：\n",
    "    - 数值型数据：\n",
    "        - userId(string): 用户ID\n",
    "        - ts(long): 记录时间的timestamp\n",
    "        - sessionId(long): 每次打开app创建一个sessionId\n",
    "        - length(double): 歌的长度\n",
    "        - itemInSession(long): Session中的项目数量\n",
    "        - registration(long): 注册时间timestamp\n",
    "    - 类别型数据：\n",
    "        - artist(string): 艺术家\n",
    "        - auth(string): 用户身份验证状态，比如Logged In状态\n",
    "        - firstName(string): 用户的名字\n",
    "        - gender(string): 用户性别\n",
    "        - lastName(string): 用户的姓\n",
    "        - level(string): 有free和paid两种\n",
    "        - location(string): 用户的定位\n",
    "        - method(string): HTTP请求方式，PUT和GET两种\n",
    "        - page(string): 页面名称，Home, Upgrade, Downgrade等\n",
    "        - song(string): 歌曲名称\n",
    "        - status(long): 请求状态，200、307、404这三种\n",
    "        - userAgent(string): 用户浏览器\n",
    "        "
   ]
  },
  {
   "cell_type": "markdown",
   "metadata": {},
   "source": [
    "## 2.2 清洗数据\n",
    "\n",
    "缺失值存在三种情况：1. NaN，Not A Number；2. NULL，空值；3. '', 空字符串。\n",
    "\n",
    "在处理需要注意上述三种情况都可以视为存在缺失值，情况1和2的缺失值在pyspark中的查找方法参照[stackoverflow问题: Differences between null and NaN in spark](https://stackoverflow.com/questions/43882699/differences-between-null-and-nan-in-spark-how-to-deal-with-it), 情况3可以直接使用等式查找。"
   ]
  },
  {
   "cell_type": "code",
   "execution_count": 8,
   "metadata": {},
   "outputs": [
    {
     "name": "stdout",
     "output_type": "stream",
     "text": [
      "存在缺失值的列和缺失值数量: \n",
      "artist           58392\n",
      "firstName         8346\n",
      "gender            8346\n",
      "lastName          8346\n",
      "length           58392\n",
      "location          8346\n",
      "registration      8346\n",
      "song             58392\n",
      "userAgent         8346\n",
      "userId            8346\n"
     ]
    }
   ],
   "source": [
    "# 存放有缺失值的列\n",
    "columns_with_missing = {}\n",
    "# 获取所有列名称\n",
    "df_column_items = df.columns\n",
    "for column in df_column_items:\n",
    "    missing_count = df.filter(isnan(df[column]) | df[column].isNull() | (df[column] == \"\")).count()\n",
    "    if  missing_count:\n",
    "        columns_with_missing[column] = missing_count\n",
    "# 打印存在缺失值的列\n",
    "print('存在缺失值的列和缺失值数量: ')\n",
    "for column, missing_count in columns_with_missing.items():\n",
    "    print('{:<{}}{:>{}}'.format(column, 12, missing_count, 10))"
   ]
  },
  {
   "cell_type": "markdown",
   "metadata": {},
   "source": [
    "可以看到，userId、firstName、gender、lastName、location、registration、userAgent列的缺失值数量是相同的，他们是否有关系呢？\n",
    "\n",
    "可以看出上述特征都是用户的信息，而另外的三个缺失值数量为58392的特征为歌曲相关的信息。\n",
    "\n",
    "接下来可以先对最重要的userId特征的缺失值进行处理，再进一步分析。"
   ]
  },
  {
   "cell_type": "code",
   "execution_count": 9,
   "metadata": {
    "scrolled": true
   },
   "outputs": [
    {
     "data": {
      "text/plain": [
       "0"
      ]
     },
     "execution_count": 9,
     "metadata": {},
     "output_type": "execute_result"
    }
   ],
   "source": [
    "# 查看userId列的为NULL数量\n",
    "df.filter(df.userId.isNull()).select(\"userId\").count()"
   ]
  },
  {
   "cell_type": "code",
   "execution_count": 10,
   "metadata": {},
   "outputs": [
    {
     "data": {
      "text/plain": [
       "0"
      ]
     },
     "execution_count": 10,
     "metadata": {},
     "output_type": "execute_result"
    }
   ],
   "source": [
    "# 查看userId列的为NAN数量\n",
    "df.filter(isnan(df.userId)).select(\"userId\").count()"
   ]
  },
  {
   "cell_type": "code",
   "execution_count": 11,
   "metadata": {},
   "outputs": [
    {
     "data": {
      "text/plain": [
       "8346"
      ]
     },
     "execution_count": 11,
     "metadata": {},
     "output_type": "execute_result"
    }
   ],
   "source": [
    "# 查看userId列的为空字符串的数量\n",
    "df.filter(df.userId == \"\").select(\"userId\").count()"
   ]
  },
  {
   "cell_type": "markdown",
   "metadata": {},
   "source": [
    "可以看出userId列的缺失值，全部是为空字符串这种情况，那么进一步删除userId列的空字符串行"
   ]
  },
  {
   "cell_type": "code",
   "execution_count": 12,
   "metadata": {
    "scrolled": true
   },
   "outputs": [
    {
     "data": {
      "text/plain": [
       "278154"
      ]
     },
     "execution_count": 12,
     "metadata": {},
     "output_type": "execute_result"
    }
   ],
   "source": [
    "# 删除userId列的无效空字符串行\n",
    "df = df.filter(\"userId != ''\")\n",
    "df.count()"
   ]
  },
  {
   "cell_type": "code",
   "execution_count": 13,
   "metadata": {},
   "outputs": [
    {
     "name": "stdout",
     "output_type": "stream",
     "text": [
      "存在缺失值的列和缺失值数量: \n",
      "artist           50046\n",
      "length           50046\n",
      "song             50046\n"
     ]
    }
   ],
   "source": [
    "# 删除userId列缺失值行后，查看仍然存在缺失值的列\n",
    "# 存放有缺失值的列\n",
    "columns_with_missing = {}\n",
    "# 获取所有列名称\n",
    "df_column_items = df.columns\n",
    "for column in df_column_items:\n",
    "    missing_count = df.filter(isnan(df[column]) | df[column].isNull() | (df[column] == \"\")).count()\n",
    "    if  missing_count:\n",
    "        columns_with_missing[column] = missing_count\n",
    "# 打印存在缺失值的列\n",
    "print('存在缺失值的列和缺失值数量: ')\n",
    "for column, missing_count in columns_with_missing.items():\n",
    "    print('{:<{}}{:>{}}'.format(column, 12, missing_count, 10))"
   ]
  },
  {
   "cell_type": "markdown",
   "metadata": {},
   "source": [
    "可以看出删除userId的缺失值后，关于用户信息的firstName、gender、lastName、location、registration、userAgent这些特征的缺失值也没有了，所以关于用户信息的上述列是同时存在缺失值的，而这些存在缺失值的数据很有可能是关于未注册用户的"
   ]
  },
  {
   "cell_type": "code",
   "execution_count": 14,
   "metadata": {},
   "outputs": [
    {
     "data": {
      "text/plain": [
       "50046"
      ]
     },
     "execution_count": 14,
     "metadata": {},
     "output_type": "execute_result"
    }
   ],
   "source": [
    "# 查看artist列的为NULL数量\n",
    "df.filter(df.artist.isNull()).select(\"artist\").count()"
   ]
  },
  {
   "cell_type": "code",
   "execution_count": 15,
   "metadata": {},
   "outputs": [
    {
     "data": {
      "text/plain": [
       "50046"
      ]
     },
     "execution_count": 15,
     "metadata": {},
     "output_type": "execute_result"
    }
   ],
   "source": [
    "# 查看artist列和length列是否同时缺失值\n",
    "df_inter = df.filter(df.artist.isNull()).select(\"length\")\n",
    "df_inter.filter(df_inter['length'].isNull()).select(\"length\").count()"
   ]
  },
  {
   "cell_type": "code",
   "execution_count": 16,
   "metadata": {},
   "outputs": [
    {
     "data": {
      "text/plain": [
       "50046"
      ]
     },
     "execution_count": 16,
     "metadata": {},
     "output_type": "execute_result"
    }
   ],
   "source": [
    "# 查看artist列和song是否同时缺失值\n",
    "df_inter = df.filter(df.artist.isNull()).select(\"song\")\n",
    "df_inter.filter(df_inter['song'].isNull()).select(\"song\").count()"
   ]
  },
  {
   "cell_type": "markdown",
   "metadata": {},
   "source": [
    "可以看出，artist, song, length这三个关于歌曲信息的特征是同时缺失的"
   ]
  },
  {
   "cell_type": "code",
   "execution_count": 17,
   "metadata": {},
   "outputs": [
    {
     "name": "stdout",
     "output_type": "stream",
     "text": [
      "+------+------+------+---------------+\n",
      "|artist|userId|method|           page|\n",
      "+------+------+------+---------------+\n",
      "|  null|    30|   PUT|Add to Playlist|\n",
      "|  null|     9|   GET|    Roll Advert|\n",
      "|  null|     9|   PUT|      Thumbs Up|\n",
      "|  null|    54|   GET|      Downgrade|\n",
      "|  null|    54|   PUT|      Thumbs Up|\n",
      "|  null|     9|   PUT|    Thumbs Down|\n",
      "|  null|     9|   GET|           Home|\n",
      "|  null|     9|   PUT|         Logout|\n",
      "|  null|    74|   PUT|      Thumbs Up|\n",
      "|  null|     9|   GET|           Home|\n",
      "|  null|    30|   PUT|    Thumbs Down|\n",
      "|  null|     4|   PUT|         Logout|\n",
      "|  null|     4|   GET|           Home|\n",
      "|  null|    74|   PUT|Add to Playlist|\n",
      "|  null|     4|   GET|           Home|\n",
      "|  null|    74|   PUT|      Thumbs Up|\n",
      "|  null|     9|   PUT|      Thumbs Up|\n",
      "|  null|    30|   PUT|      Thumbs Up|\n",
      "|  null|    74|   PUT|      Thumbs Up|\n",
      "|  null|    30|   PUT|      Thumbs Up|\n",
      "+------+------+------+---------------+\n",
      "only showing top 20 rows\n",
      "\n"
     ]
    }
   ],
   "source": [
    "# 打印出artist缺失值所在行\n",
    "df.filter(df.artist.isNull()).select([\"artist\", \"userId\", \"method\", \"page\"]).show()"
   ]
  },
  {
   "cell_type": "code",
   "execution_count": 18,
   "metadata": {},
   "outputs": [
    {
     "name": "stdout",
     "output_type": "stream",
     "text": [
      "+------+\n",
      "|userId|\n",
      "+------+\n",
      "|100010|\n",
      "|200002|\n",
      "|   125|\n",
      "|    51|\n",
      "|   124|\n",
      "|     7|\n",
      "|    54|\n",
      "|    15|\n",
      "|   155|\n",
      "|   132|\n",
      "|   154|\n",
      "|100014|\n",
      "|   101|\n",
      "|    11|\n",
      "|   138|\n",
      "|300017|\n",
      "|    29|\n",
      "|    69|\n",
      "|100021|\n",
      "|    42|\n",
      "+------+\n",
      "only showing top 20 rows\n",
      "\n"
     ]
    }
   ],
   "source": [
    "# 打印出artist存在缺失值的userId\n",
    "df.filter(df.artist.isNull()).select(\"userId\").dropDuplicates().show()"
   ]
  },
  {
   "cell_type": "markdown",
   "metadata": {},
   "source": [
    "可以看到，删除userId特征缺失值的行，和userId特征缺失数量相同的特征不再具有缺失值了。\n",
    "\n",
    "对于剩余三列仍然有缺失值的情况，我们这里暂不处理，因为歌曲信息的缺失值对接下来的分析影响小一些，而且缺失值数量较大，先选择不删除更加稳妥。"
   ]
  },
  {
   "cell_type": "markdown",
   "metadata": {},
   "source": [
    "# 3. 探索性数据分析\n",
    "当你使用完整数据集时，通过加载小数据集，在 Spark 中完成基础操作来实现探索性数据分析。在这个 Workspace 中，我们已经提供给你一个你可以探索的小数据集。\n",
    "\n",
    "### 定义客户流失\n",
    "\n",
    "在你完成初步分析之后，创建一列 `Churn` 作为模型的标签。我建议你使用 `Cancellation Confirmation` 事件来定义客户流失，该事件在付费或免费客户身上都有发生。作为一个奖励任务，你也可以深入了解 `Downgrade` 事件。\n",
    "\n",
    "### 探索数据\n",
    "你定义好客户流失后，就可以执行一些探索性数据分析，观察留存用户和流失用户的行为。你可以首先把这两类用户的数据聚合到一起，观察固定时间内某个特定动作出现的次数或者播放音乐的数量。"
   ]
  },
  {
   "cell_type": "markdown",
   "metadata": {},
   "source": [
    "## 3.1 定义客户流失数据"
   ]
  },
  {
   "cell_type": "code",
   "execution_count": 19,
   "metadata": {},
   "outputs": [],
   "source": [
    "# 定义客户流失列\n",
    "flag_churned = udf(lambda x: 1 if x == 'Cancellation Confirmation' else 0, IntegerType())\n",
    "df = df.withColumn('churn', flag_churned('page'))"
   ]
  },
  {
   "cell_type": "code",
   "execution_count": 20,
   "metadata": {
    "scrolled": true
   },
   "outputs": [
    {
     "name": "stdout",
     "output_type": "stream",
     "text": [
      "root\n",
      " |-- artist: string (nullable = true)\n",
      " |-- auth: string (nullable = true)\n",
      " |-- firstName: string (nullable = true)\n",
      " |-- gender: string (nullable = true)\n",
      " |-- itemInSession: long (nullable = true)\n",
      " |-- lastName: string (nullable = true)\n",
      " |-- length: double (nullable = true)\n",
      " |-- level: string (nullable = true)\n",
      " |-- location: string (nullable = true)\n",
      " |-- method: string (nullable = true)\n",
      " |-- page: string (nullable = true)\n",
      " |-- registration: long (nullable = true)\n",
      " |-- sessionId: long (nullable = true)\n",
      " |-- song: string (nullable = true)\n",
      " |-- status: long (nullable = true)\n",
      " |-- ts: long (nullable = true)\n",
      " |-- userAgent: string (nullable = true)\n",
      " |-- userId: string (nullable = true)\n",
      " |-- churn: integer (nullable = true)\n",
      "\n"
     ]
    }
   ],
   "source": [
    "# 查看dataframe的各列\n",
    "df.printSchema()"
   ]
  },
  {
   "cell_type": "markdown",
   "metadata": {},
   "source": [
    "建立phase变量，该变量只有0和1两个取值，1表示用户已经进入过了Cancelation Confirmation页面，0表示未进入Cancelation Confirmation页面。\n",
    "\n",
    "通过该变量可以很好的理解何谓“Cancellation Confirmation”页面，何谓流失用户"
   ]
  },
  {
   "cell_type": "code",
   "execution_count": 21,
   "metadata": {},
   "outputs": [],
   "source": [
    "# 窗口函数，用于区分流失用户和留存用户\n",
    "windowval = Window.partitionBy(\"userId\").orderBy(asc(\"ts\")).rangeBetween(Window.unboundedPreceding, 0)\n",
    "# 创建phase特征，0-用户为留存状态，1-用户已经流失\n",
    "df_phase = df.withColumn(\"phase\", Fmax(\"churn\").over(windowval))"
   ]
  },
  {
   "cell_type": "code",
   "execution_count": 22,
   "metadata": {},
   "outputs": [
    {
     "name": "stdout",
     "output_type": "stream",
     "text": [
      "+------+----------+\n",
      "|userId|sum(phase)|\n",
      "+------+----------+\n",
      "|   125|         2|\n",
      "|100007|         1|\n",
      "|300007|         1|\n",
      "|    17|         1|\n",
      "|    28|         1|\n",
      "|100025|         1|\n",
      "|    18|         1|\n",
      "|100005|         1|\n",
      "|    87|         1|\n",
      "|     3|         1|\n",
      "|100022|         1|\n",
      "|100014|         1|\n",
      "|100006|         1|\n",
      "|   101|         1|\n",
      "|    70|         1|\n",
      "|    54|         1|\n",
      "|    73|         1|\n",
      "|    29|         1|\n",
      "|100021|         1|\n",
      "|    51|         1|\n",
      "+------+----------+\n",
      "only showing top 20 rows\n",
      "\n"
     ]
    }
   ],
   "source": [
    "# 查看用户进入该页面的次数排行\n",
    "df_phase.groupBy(\"userId\").agg({\"phase\": \"sum\"}).orderBy(desc(\"sum(phase)\")).show()"
   ]
  },
  {
   "cell_type": "markdown",
   "metadata": {},
   "source": [
    "可以看出，Cancellation Confirmation页面为用户取消确认的最终页面，之后用户不再访问，那么该用户就是所谓的流失用户。\n",
    "\n",
    "但是有一个例外的用户，这个用户就是ID为125的用户，在确认取消页面后居然再次有交互页面。\n",
    "\n",
    "接下来查看该用户为什么会出现这种情况。"
   ]
  },
  {
   "cell_type": "code",
   "execution_count": 23,
   "metadata": {
    "scrolled": true
   },
   "outputs": [
    {
     "data": {
      "text/plain": [
       "[Row(userId='125', song=None, ts=1539318918000, length=None, page='Cancel', churn=0, phase=1),\n",
       " Row(userId='125', song=None, ts=1539318918000, length=None, page='Cancellation Confirmation', churn=1, phase=1),\n",
       " Row(userId='125', song=None, ts=1539318917000, length=None, page='Roll Advert', churn=0, phase=0),\n",
       " Row(userId='125', song='Kota', ts=1539318906000, length=323.81342, page='NextSong', churn=0, phase=0),\n",
       " Row(userId='125', song=\"They're Red Hot\", ts=1539318728000, length=178.41587, page='NextSong', churn=0, phase=0),\n",
       " Row(userId='125', song=\"Don't Leave Me Behind\", ts=1539318515000, length=213.60281, page='NextSong', churn=0, phase=0),\n",
       " Row(userId='125', song='Love You Down', ts=1539318124000, length=391.26159, page='NextSong', churn=0, phase=0),\n",
       " Row(userId='125', song='Leader Of Men (Album Version)', ts=1539317914000, length=210.83383, page='NextSong', churn=0, phase=0),\n",
       " Row(userId='125', song=\"I'm On My Way\", ts=1539317711000, length=203.2322, page='NextSong', churn=0, phase=0),\n",
       " Row(userId='125', song='Hypnotize(Album Version)', ts=1539317481000, length=230.03383, page='NextSong', churn=0, phase=0),\n",
       " Row(userId='125', song='paranoid android', ts=1539317144000, length=337.91955, page='NextSong', churn=0, phase=0)]"
      ]
     },
     "execution_count": 23,
     "metadata": {},
     "output_type": "execute_result"
    }
   ],
   "source": [
    "# 按时间逆序查看ID为125的用户的情况\n",
    "df_phase.where(df[\"userId\"] == 125).select([\"userId\", \"song\", \"ts\", \"length\", \"page\", \"churn\", \"phase\"]).orderBy(desc(\"ts\")).collect()"
   ]
  },
  {
   "cell_type": "code",
   "execution_count": 24,
   "metadata": {
    "scrolled": true
   },
   "outputs": [
    {
     "data": {
      "text/plain": [
       "[Row(userId='100007', song=None, ts=1543491909000, length=None, page='Cancellation Confirmation', churn=1, phase=1),\n",
       " Row(userId='100007', song=None, ts=1543491907000, length=None, page='Cancel', churn=0, phase=0),\n",
       " Row(userId='100007', song=None, ts=1543491906000, length=None, page='Downgrade', churn=0, phase=0),\n",
       " Row(userId='100007', song='Bonkers', ts=1543491877000, length=176.87465, page='NextSong', churn=0, phase=0),\n",
       " Row(userId='100007', song='Mercy:The Laundromat', ts=1543491778000, length=99.16036, page='NextSong', churn=0, phase=0),\n",
       " Row(userId='100007', song=None, ts=1543491582000, length=None, page='Thumbs Down', churn=0, phase=0),\n",
       " Row(userId='100007', song='God Save The Queen', ts=1543491581000, length=197.82485, page='NextSong', churn=0, phase=0),\n",
       " Row(userId='100007', song='Here (In Your Arms) (Radio Edit)', ts=1543491363000, length=218.38322, page='NextSong', churn=0, phase=0),\n",
       " Row(userId='100007', song=None, ts=1543491145000, length=None, page='Thumbs Up', churn=0, phase=0),\n",
       " Row(userId='100007', song='Venus', ts=1543491144000, length=219.0624, page='NextSong', churn=0, phase=0),\n",
       " Row(userId='100007', song='Breakdown (Album Version)', ts=1543490981000, length=163.89179, page='NextSong', churn=0, phase=0),\n",
       " Row(userId='100007', song='Vino Tinto', ts=1543490781000, length=200.9073, page='NextSong', churn=0, phase=0),\n",
       " Row(userId='100007', song='Harder Better Faster Stronger (The Neptunes Remix)', ts=1543490471000, length=310.96118, page='NextSong', churn=0, phase=0),\n",
       " Row(userId='100007', song='Go', ts=1543490304000, length=167.36608, page='NextSong', churn=0, phase=0),\n",
       " Row(userId='100007', song='Train Round The Bend (LP Version)', ts=1543490102000, length=202.762, page='NextSong', churn=0, phase=0),\n",
       " Row(userId='100007', song='Run Rabbit Run', ts=1543489909000, length=193.72363, page='NextSong', churn=0, phase=0),\n",
       " Row(userId='100007', song='Legions Of The Betrayed', ts=1543489550000, length=359.1571, page='NextSong', churn=0, phase=0),\n",
       " Row(userId='100007', song='Here we go Again', ts=1543489252000, length=298.47465, page='NextSong', churn=0, phase=0),\n",
       " Row(userId='100007', song='Nah!', ts=1543489002000, length=250.51383, page='NextSong', churn=0, phase=0),\n",
       " Row(userId='100007', song='Jynweythek', ts=1543488859000, length=143.882, page='NextSong', churn=0, phase=0),\n",
       " Row(userId='100007', song='Fugue (A Revelation)', ts=1543488598000, length=261.66812, page='NextSong', churn=0, phase=0),\n",
       " Row(userId='100007', song='For Force', ts=1543488333000, length=265.63873, page='NextSong', churn=0, phase=0),\n",
       " Row(userId='100007', song='Aerodynamic', ts=1543488126000, length=207.59465, page='NextSong', churn=0, phase=0),\n",
       " Row(userId='100007', song='Please Please Please', ts=1543487916000, length=210.46812, page='NextSong', churn=0, phase=0),\n",
       " Row(userId='100007', song=\"It's Goin' Down (Amended Version)\", ts=1543487675000, length=241.55383, page='NextSong', churn=0, phase=0),\n",
       " Row(userId='100007', song='Whatcha Say', ts=1543487453000, length=222.61506, page='NextSong', churn=0, phase=0),\n",
       " Row(userId='100007', song='Stupid In Love', ts=1543487212000, length=241.42322, page='NextSong', churn=0, phase=0),\n",
       " Row(userId='100007', song='Stronger Than Me', ts=1543486981000, length=231.52281, page='NextSong', churn=0, phase=0),\n",
       " Row(userId='100007', song='Rx Queen (LP Version)', ts=1543486713000, length=268.01587, page='NextSong', churn=0, phase=0),\n",
       " Row(userId='100007', song=\"Que Mas Da (I Don't Care)\", ts=1543486504000, length=209.34485, page='NextSong', churn=0, phase=0),\n",
       " Row(userId='100007', song=None, ts=1543486310000, length=None, page='Downgrade', churn=0, phase=0),\n",
       " Row(userId='100007', song='Party In The U.S.A.', ts=1543486302000, length=202.73587, page='NextSong', churn=0, phase=0),\n",
       " Row(userId='100007', song='O My God', ts=1543486060000, length=242.18077, page='NextSong', churn=0, phase=0),\n",
       " Row(userId='100007', song='Matricide', ts=1543485740000, length=320.57424, page='NextSong', churn=0, phase=0),\n",
       " Row(userId='100007', song='Smile (Explicit Version)', ts=1543485545000, length=195.13424, page='NextSong', churn=0, phase=0),\n",
       " Row(userId='100007', song='Nine Times Out Of Ten (1998 Digital Remaster)', ts=1543485415000, length=130.45506, page='NextSong', churn=0, phase=0),\n",
       " Row(userId='100007', song='Circuit Breaker', ts=1543485091000, length=324.64934, page='NextSong', churn=0, phase=0),\n",
       " Row(userId='100007', song='Rememo', ts=1543484891000, length=200.82893, page='NextSong', churn=0, phase=0),\n",
       " Row(userId='100007', song='Wish', ts=1543484670000, length=221.70077, page='NextSong', churn=0, phase=0),\n",
       " Row(userId='100007', song='Dangerously In Love', ts=1543484377000, length=293.14567, page='NextSong', churn=0, phase=0),\n",
       " Row(userId='100007', song='Starry Eyed', ts=1543484200000, length=177.52771, page='NextSong', churn=0, phase=0),\n",
       " Row(userId='100007', song='Supa Sista (Album)', ts=1543483873000, length=327.05261, page='NextSong', churn=0, phase=0),\n",
       " Row(userId='100007', song='God Is On The Radio', ts=1543483509000, length=364.90404, page='NextSong', churn=0, phase=0),\n",
       " Row(userId='100007', song='Eenie Meenie', ts=1543483308000, length=201.9522, page='NextSong', churn=0, phase=0),\n",
       " Row(userId='100007', song='Secrets', ts=1543483084000, length=224.67873, page='NextSong', churn=0, phase=0),\n",
       " Row(userId='100007', song=None, ts=1543482846000, length=None, page='Thumbs Up', churn=0, phase=0),\n",
       " Row(userId='100007', song=\"You're The One\", ts=1543482845000, length=239.3073, page='NextSong', churn=0, phase=0),\n",
       " Row(userId='100007', song='Ezekiel (The Visionary)', ts=1543482598000, length=247.01342, page='NextSong', churn=0, phase=0),\n",
       " Row(userId='100007', song='Clocks', ts=1543482291000, length=307.51302, page='NextSong', churn=0, phase=0),\n",
       " Row(userId='100007', song='The Last Ammunition', ts=1543482045000, length=246.90893, page='NextSong', churn=0, phase=0),\n",
       " Row(userId='100007', song=None, ts=1543481771000, length=None, page='Help', churn=0, phase=0),\n",
       " Row(userId='100007', song='Od Yeshoma', ts=1543481751000, length=294.922, page='NextSong', churn=0, phase=0),\n",
       " Row(userId='100007', song='Photobooth (Rolling Stone Original)', ts=1543481524000, length=227.73506, page='NextSong', churn=0, phase=0),\n",
       " Row(userId='100007', song='Sit Down. Stand Up', ts=1543481264000, length=260.0224, page='NextSong', churn=0, phase=0),\n",
       " Row(userId='100007', song='Undo', ts=1543480916000, length=348.57751, page='NextSong', churn=0, phase=0),\n",
       " Row(userId='100007', song='Foreplay/Long Time', ts=1543480448000, length=468.32281, page='NextSong', churn=0, phase=0),\n",
       " Row(userId='100007', song='Amour Du Sol', ts=1543480186000, length=262.71302, page='NextSong', churn=0, phase=0),\n",
       " Row(userId='100007', song='The Nation', ts=1543480164000, length=22.12526, page='NextSong', churn=0, phase=0),\n",
       " Row(userId='100007', song='Street Of Dreams (Album Version)', ts=1543479895000, length=269.42649, page='NextSong', churn=0, phase=0),\n",
       " Row(userId='100007', song=None, ts=1543479806000, length=None, page='Roll Advert', churn=0, phase=0),\n",
       " Row(userId='100007', song='Untitled (Piano)', ts=1543479696000, length=199.36608, page='NextSong', churn=0, phase=0),\n",
       " Row(userId='100007', song='Use Somebody', ts=1543479465000, length=231.26159, page='NextSong', churn=0, phase=0),\n",
       " Row(userId='100007', song='Slow (LP Version)', ts=1543479253000, length=212.74077, page='NextSong', churn=0, phase=0),\n",
       " Row(userId='100007', song='Yellow', ts=1543478985000, length=268.38159, page='NextSong', churn=0, phase=0),\n",
       " Row(userId='100007', song=None, ts=1543478819000, length=None, page='Thumbs Up', churn=0, phase=0),\n",
       " Row(userId='100007', song='A Deeper Shade Of Soul', ts=1543478818000, length=167.60118, page='NextSong', churn=0, phase=0),\n",
       " Row(userId='100007', song='This Charming Man', ts=1543478655000, length=163.05587, page='NextSong', churn=0, phase=0),\n",
       " Row(userId='100007', song='My World Is Blue', ts=1543478486000, length=169.53424, page='NextSong', churn=0, phase=0),\n",
       " Row(userId='100007', song='Have You Got It In You?', ts=1543478237000, length=249.05098, page='NextSong', churn=0, phase=0),\n",
       " Row(userId='100007', song='Not In My Bed', ts=1543478038000, length=199.05261, page='NextSong', churn=0, phase=0),\n",
       " Row(userId='100007', song=None, ts=1543477767000, length=None, page='Thumbs Up', churn=0, phase=0),\n",
       " Row(userId='100007', song='This Fine Social Scene [Album Version]', ts=1543477766000, length=272.24771, page='NextSong', churn=0, phase=0),\n",
       " Row(userId='100007', song='Obfuscation', ts=1543477211000, length=555.33669, page='NextSong', churn=0, phase=0),\n",
       " Row(userId='100007', song='Sweet Emotion', ts=1543476937000, length=274.12853, page='NextSong', churn=0, phase=0),\n",
       " Row(userId='100007', song='Pal sur', ts=1543476703000, length=234.94485, page='NextSong', churn=0, phase=0),\n",
       " Row(userId='100007', song='She Don\\x19t Wanna Man', ts=1543476487000, length=216.42404, page='NextSong', churn=0, phase=0),\n",
       " Row(userId='100007', song='Lucille', ts=1543476268000, length=219.97669, page='NextSong', churn=0, phase=0),\n",
       " Row(userId='100007', song='Woman', ts=1543476093000, length=175.82975, page='NextSong', churn=0, phase=0),\n",
       " Row(userId='100007', song=\"I'll Be There\", ts=1543475830000, length=263.94077, page='NextSong', churn=0, phase=0),\n",
       " Row(userId='100007', song='Imma Be', ts=1543475573000, length=257.54077, page='NextSong', churn=0, phase=0),\n",
       " Row(userId='100007', song='I Thought It Was You', ts=1543475263000, length=310.07302, page='NextSong', churn=0, phase=0),\n",
       " Row(userId='100007', song='Lies', ts=1543475025000, length=238.99383, page='NextSong', churn=0, phase=0),\n",
       " Row(userId='100007', song='Walk On Water Or Drown (Album)', ts=1543474816000, length=209.8673, page='NextSong', churn=0, phase=0),\n",
       " Row(userId='100007', song='Tighten Up', ts=1543474605000, length=211.01669, page='NextSong', churn=0, phase=0),\n",
       " Row(userId='100007', song=\"Don't Give Me Your Life\", ts=1543474376000, length=229.77261, page='NextSong', churn=0, phase=0),\n",
       " Row(userId='100007', song='I_ Yi_ Yi_ Yi_ Yi (I Like You Very Much)', ts=1543474242000, length=134.94812, page='NextSong', churn=0, phase=0),\n",
       " Row(userId='100007', song='When Darkness Falls (Album Version)', ts=1543474010000, length=232.54159, page='NextSong', churn=0, phase=0),\n",
       " Row(userId='100007', song=None, ts=1543473869000, length=None, page='Home', churn=0, phase=0),\n",
       " Row(userId='100007', song=None, ts=1543473818000, length=None, page='Logout', churn=0, phase=0),\n",
       " Row(userId='100007', song='Strawberry AndrÃ\\x83Â© (Album Version)', ts=1543473817000, length=193.30567, page='NextSong', churn=0, phase=0),\n",
       " Row(userId='100007', song='Dog Days Are Over (Radio Edit)', ts=1543473598000, length=219.66322, page='NextSong', churn=0, phase=0),\n",
       " Row(userId='100007', song='Here_ There And Everywhere', ts=1543473346000, length=252.05506, page='NextSong', churn=0, phase=0),\n",
       " Row(userId='100007', song=None, ts=1543473232000, length=None, page='Settings', churn=0, phase=0),\n",
       " Row(userId='100007', song=None, ts=1543473212000, length=None, page='Home', churn=0, phase=0),\n",
       " Row(userId='100007', song='Holy Ghost White Noise (Album)', ts=1543473091000, length=255.18975, page='NextSong', churn=0, phase=0),\n",
       " Row(userId='100007', song='Miserably Loving You', ts=1543472861000, length=230.71302, page='NextSong', churn=0, phase=0),\n",
       " Row(userId='100007', song='Cold Blooded (Acid Cleanse)', ts=1543472622000, length=239.96036, page='NextSong', churn=0, phase=0),\n",
       " Row(userId='100007', song='Feel Like Making Love', ts=1543472296000, length=326.39955, page='NextSong', churn=0, phase=0),\n",
       " Row(userId='100007', song='Tchaparian', ts=1543472098000, length=198.76526, page='NextSong', churn=0, phase=0),\n",
       " Row(userId='100007', song=\"Can't Find My Way\", ts=1543471790000, length=308.92363, page='NextSong', churn=0, phase=0),\n",
       " Row(userId='100007', song='Cantiga do neno da tenda (con Adriana Varela)', ts=1543471515000, length=275.74812, page='NextSong', churn=0, phase=0),\n",
       " Row(userId='100007', song=\"Groovin'  (LP Version)\", ts=1543471351000, length=164.04853, page='NextSong', churn=0, phase=0),\n",
       " Row(userId='100007', song='Es Ist Immer Zu SpÃ\\x83Â¤t', ts=1543471101000, length=250.95791, page='NextSong', churn=0, phase=0),\n",
       " Row(userId='100007', song='Hong', ts=1543470608000, length=493.11302, page='NextSong', churn=0, phase=0),\n",
       " Row(userId='100007', song='The Chase (Dreams and Nightmares)', ts=1543470314000, length=294.73914, page='NextSong', churn=0, phase=0),\n",
       " Row(userId='100007', song=None, ts=1543470081000, length=None, page='Add Friend', churn=0, phase=0),\n",
       " Row(userId='100007', song=None, ts=1543470080000, length=None, page='Add Friend', churn=0, phase=0),\n",
       " Row(userId='100007', song=None, ts=1543470079000, length=None, page='Add Friend', churn=0, phase=0),\n",
       " Row(userId='100007', song='Hey Joe (2009 Digital Remaster)', ts=1543470078000, length=236.19873, page='NextSong', churn=0, phase=0),\n",
       " Row(userId='100007', song='Shots', ts=1543469856000, length=222.17098, page='NextSong', churn=0, phase=0),\n",
       " Row(userId='100007', song='Mary The Ice Cube', ts=1543469579000, length=277.60281, page='NextSong', churn=0, phase=0),\n",
       " Row(userId='100007', song=\"Ain't No Right ( LP Version )\", ts=1543469365000, length=214.54322, page='NextSong', churn=0, phase=0),\n",
       " Row(userId='100007', song='Revenge To All', ts=1543469173000, length=192.15628, page='NextSong', churn=0, phase=0),\n",
       " Row(userId='100007', song='Mare', ts=1543468956000, length=217.05098, page='NextSong', churn=0, phase=0),\n",
       " Row(userId='100007', song='The Gift', ts=1543468654000, length=302.05342, page='NextSong', churn=0, phase=0),\n",
       " Row(userId='100007', song='Ruby Mae', ts=1543468404000, length=250.33098, page='NextSong', churn=0, phase=0),\n",
       " Row(userId='100007', song='Hold You', ts=1543468171000, length=233.09016, page='NextSong', churn=0, phase=0),\n",
       " Row(userId='100007', song='Vi Tager Fuglen PÃ\\x83Â¥ Dig', ts=1543467899000, length=272.19546, page='NextSong', churn=0, phase=0),\n",
       " Row(userId='100007', song='Nostrand', ts=1543467715000, length=184.0322, page='NextSong', churn=0, phase=0),\n",
       " Row(userId='100007', song='Big Boss Man', ts=1543467534000, length=181.57669, page='NextSong', churn=0, phase=0),\n",
       " Row(userId='100007', song=None, ts=1543467335000, length=None, page='Thumbs Up', churn=0, phase=0),\n",
       " Row(userId='100007', song='Wild World', ts=1543467334000, length=200.202, page='NextSong', churn=0, phase=0),\n",
       " Row(userId='100007', song=None, ts=1543466755000, length=None, page='Home', churn=0, phase=0),\n",
       " Row(userId='100007', song='Sehr kosmisch', ts=1543466679000, length=655.77751, page='NextSong', churn=0, phase=0),\n",
       " Row(userId='100007', song='Run Through The Jungle', ts=1543466495000, length=184.73751, page='NextSong', churn=0, phase=0),\n",
       " Row(userId='100007', song='ReprÃ\\x83Â©sente', ts=1543466243000, length=252.21179, page='NextSong', churn=0, phase=0),\n",
       " Row(userId='100007', song=None, ts=1543466011000, length=None, page='Thumbs Up', churn=0, phase=0),\n",
       " Row(userId='100007', song='Love Story', ts=1543466010000, length=233.89995, page='NextSong', churn=0, phase=0),\n",
       " Row(userId='100007', song='Erotomania', ts=1543465606000, length=404.40118, page='NextSong', churn=0, phase=0),\n",
       " Row(userId='100007', song='Your Hand In Mine', ts=1543465109000, length=497.47546, page='NextSong', churn=0, phase=0),\n",
       " Row(userId='100007', song='Mercury Tears 2', ts=1543464939000, length=170.70975, page='NextSong', churn=0, phase=0),\n",
       " Row(userId='100007', song=\"Dead Lovers' Lane [Live]\", ts=1543464682000, length=257.25342, page='NextSong', churn=0, phase=0),\n",
       " Row(userId='100007', song='4th Of July', ts=1543464374000, length=308.92363, page='NextSong', churn=0, phase=0),\n",
       " Row(userId='100007', song=None, ts=1543464149000, length=None, page='Add to Playlist', churn=0, phase=0),\n",
       " Row(userId='100007', song='Learn To Fly', ts=1543464139000, length=235.28444, page='NextSong', churn=0, phase=0),\n",
       " Row(userId='100007', song='19-2000', ts=1543463932000, length=207.59465, page='NextSong', churn=0, phase=0),\n",
       " Row(userId='100007', song=None, ts=1543463724000, length=None, page='Add Friend', churn=0, phase=0),\n",
       " Row(userId='100007', song=None, ts=1543463723000, length=None, page='Add Friend', churn=0, phase=0),\n",
       " Row(userId='100007', song=None, ts=1543463722000, length=None, page='Add Friend', churn=0, phase=0),\n",
       " Row(userId='100007', song='Word Up!', ts=1543463721000, length=211.98322, page='NextSong', churn=0, phase=0),\n",
       " Row(userId='100007', song='New Shoes (Album Version)', ts=1543463519000, length=202.94485, page='NextSong', churn=0, phase=0),\n",
       " Row(userId='100007', song='Sexo', ts=1543463247000, length=272.09098, page='NextSong', churn=0, phase=0),\n",
       " Row(userId='100007', song='Du Hast', ts=1543462977000, length=270.47138, page='NextSong', churn=0, phase=0),\n",
       " Row(userId='100007', song=None, ts=1543462643000, length=None, page='Add Friend', churn=0, phase=0),\n",
       " Row(userId='100007', song='I Love This Bar', ts=1543462642000, length=335.3073, page='NextSong', churn=0, phase=0),\n",
       " Row(userId='100007', song='Widge You', ts=1543462396000, length=246.22975, page='NextSong', churn=0, phase=0),\n",
       " Row(userId='100007', song='Halo', ts=1543462135000, length=261.74649, page='NextSong', churn=0, phase=0),\n",
       " Row(userId='100007', song=None, ts=1543461918000, length=None, page='Add to Playlist', churn=0, phase=0),\n",
       " Row(userId='100007', song='The Darkest Blue (Album)', ts=1543461905000, length=230.60853, page='NextSong', churn=0, phase=0),\n",
       " Row(userId='100007', song=\"Ocean's End\", ts=1543461594000, length=311.97995, page='NextSong', churn=0, phase=0),\n",
       " Row(userId='100007', song=\"You're The One\", ts=1543461355000, length=239.3073, page='NextSong', churn=0, phase=0),\n",
       " Row(userId='100007', song='Ghost Of Yesterday (2001 Digital Remaster)', ts=1543461218000, length=137.06404, page='NextSong', churn=0, phase=0),\n",
       " Row(userId='100007', song=None, ts=1543460836000, length=None, page='Thumbs Down', churn=0, phase=0),\n",
       " Row(userId='100007', song='Make Love To Your Mind', ts=1543460835000, length=383.73832, page='NextSong', churn=0, phase=0),\n",
       " Row(userId='100007', song='Unite (2009 Digital Remaster)', ts=1543460624000, length=211.722, page='NextSong', churn=0, phase=0),\n",
       " Row(userId='100007', song='In Brooklyn After Dark', ts=1543459955000, length=669.04771, page='NextSong', churn=0, phase=0),\n",
       " Row(userId='100007', song='Good Days Bad Days', ts=1543459784000, length=171.54567, page='NextSong', churn=0, phase=0),\n",
       " Row(userId='100007', song=None, ts=1543459511000, length=None, page='Add to Playlist', churn=0, phase=0),\n",
       " Row(userId='100007', song='I Gotta Feeling', ts=1543459495000, length=289.12281, page='NextSong', churn=0, phase=0),\n",
       " Row(userId='100007', song='Lucia/La Del Pirata Cojo', ts=1543459147000, length=348.62975, page='NextSong', churn=0, phase=0),\n",
       " Row(userId='100007', song='Looks Like Love (Album Version)', ts=1543458889000, length=258.0371, page='NextSong', churn=0, phase=0),\n",
       " Row(userId='100007', song='Pon De River Pon De Bank', ts=1543458650000, length=239.77751, page='NextSong', churn=0, phase=0),\n",
       " Row(userId='100007', song='Back In The Day', ts=1543458364000, length=286.9024, page='NextSong', churn=0, phase=0),\n",
       " Row(userId='100007', song='September', ts=1543458124000, length=240.22159, page='NextSong', churn=0, phase=0),\n",
       " Row(userId='100007', song='Ay Yo', ts=1543457927000, length=197.51138, page='NextSong', churn=0, phase=0),\n",
       " Row(userId='100007', song=\"Good Timin'\", ts=1543457795000, length=132.33587, page='NextSong', churn=0, phase=0),\n",
       " Row(userId='100007', song='10 A.M. Automatic', ts=1543457616000, length=179.12118, page='NextSong', churn=0, phase=0),\n",
       " Row(userId='100007', song='Midnight Voyage', ts=1543457098000, length=518.05995, page='NextSong', churn=0, phase=0),\n",
       " Row(userId='100007', song=None, ts=1543456837000, length=None, page='Thumbs Up', churn=0, phase=0),\n",
       " Row(userId='100007', song='Bad Company', ts=1543456836000, length=262.42567, page='NextSong', churn=0, phase=0),\n",
       " Row(userId='100007', song='Last Man Standing', ts=1543456625000, length=211.27791, page='NextSong', churn=0, phase=0),\n",
       " Row(userId='100007', song=None, ts=1543456403000, length=None, page='Add Friend', churn=0, phase=0),\n",
       " Row(userId='100007', song='Invisible Sun', ts=1543456402000, length=223.84281, page='NextSong', churn=0, phase=0),\n",
       " Row(userId='100007', song=None, ts=1543456263000, length=None, page='Home', churn=0, phase=0),\n",
       " Row(userId='100007', song='Runaway Love', ts=1543456190000, length=212.53179, page='NextSong', churn=0, phase=0),\n",
       " Row(userId='100007', song=None, ts=1543456103000, length=None, page='Add Friend', churn=0, phase=0),\n",
       " Row(userId='100007', song=None, ts=1543456102000, length=None, page='Add Friend', churn=0, phase=0),\n",
       " Row(userId='100007', song='Build High', ts=1543456101000, length=89.36444, page='NextSong', churn=0, phase=0),\n",
       " Row(userId='100007', song='Tricky Disco', ts=1543455889000, length=212.61016, page='NextSong', churn=0, phase=0),\n",
       " Row(userId='100007', song='Blood To Bleed', ts=1543455661000, length=228.54485, page='NextSong', churn=0, phase=0),\n",
       " Row(userId='100007', song='Gunn Clapp', ts=1543455371000, length=290.66404, page='NextSong', churn=0, phase=0),\n",
       " Row(userId='100007', song='Tranquillity (1998 Digital Remaster)', ts=1543455122000, length=249.20771, page='NextSong', churn=0, phase=0),\n",
       " Row(userId='100007', song='Bass Rock Express', ts=1543454764000, length=358.50404, page='NextSong', churn=0, phase=0),\n",
       " Row(userId='100007', song=\"'Till I Collapse\", ts=1543454467000, length=297.9522, page='NextSong', churn=0, phase=0),\n",
       " Row(userId='100007', song=None, ts=1543454240000, length=None, page='Thumbs Up', churn=0, phase=0),\n",
       " Row(userId='100007', song='One World', ts=1543454239000, length=228.0224, page='NextSong', churn=0, phase=0),\n",
       " Row(userId='100007', song='There Goes My Baby', ts=1543453958000, length=281.28608, page='NextSong', churn=0, phase=0),\n",
       " Row(userId='100007', song='Love vs. Money', ts=1543453707000, length=251.79383, page='NextSong', churn=0, phase=0),\n",
       " Row(userId='100007', song='Hold On', ts=1543453530000, length=177.3971, page='NextSong', churn=0, phase=0),\n",
       " Row(userId='100007', song='Love Story', ts=1543453297000, length=233.89995, page='NextSong', churn=0, phase=0),\n",
       " Row(userId='100007', song='Sick', ts=1543453050000, length=247.17016, page='NextSong', churn=0, phase=0),\n",
       " Row(userId='100007', song='Harper Valley P.T.A.', ts=1543452847000, length=203.31057, page='NextSong', churn=0, phase=0),\n",
       " Row(userId='100007', song='Suzanne', ts=1543452641000, length=206.65424, page='NextSong', churn=0, phase=0),\n",
       " Row(userId='100007', song='Heavy Metal', ts=1543452226000, length=415.26812, page='NextSong', churn=0, phase=0),\n",
       " Row(userId='100007', song='Pull My Heart Away', ts=1543451979000, length=247.40526, page='NextSong', churn=0, phase=0),\n",
       " Row(userId='100007', song='Terre Promise', ts=1543451889000, length=90.56608, page='NextSong', churn=0, phase=0),\n",
       " Row(userId='100007', song=None, ts=1543451685000, length=None, page='Home', churn=0, phase=0),\n",
       " Row(userId='100007', song='Plush (Acoustic)', ts=1543451659000, length=230.29506, page='NextSong', churn=0, phase=0),\n",
       " Row(userId='100007', song='Un Misil En Mi Placard', ts=1543451388000, length=271.09832, page='NextSong', churn=0, phase=0),\n",
       " Row(userId='100007', song=None, ts=1543451371000, length=None, page='Home', churn=0, phase=0),\n",
       " Row(userId='100007', song=None, ts=1542992217000, length=None, page='Thumbs Up', churn=0, phase=0),\n",
       " Row(userId='100007', song='Concrete Jungle (BBC In Concert)', ts=1542992216000, length=182.5171, page='NextSong', churn=0, phase=0),\n",
       " Row(userId='100007', song='Me & My B*tch (Album Version)', ts=1542991976000, length=240.48281, page='NextSong', churn=0, phase=0),\n",
       " Row(userId='100007', song=None, ts=1542991753000, length=None, page='Thumbs Up', churn=0, phase=0),\n",
       " Row(userId='100007', song='Ocean Breathes Salty', ts=1542991752000, length=224.33914, page='NextSong', churn=0, phase=0),\n",
       " Row(userId='100007', song='(We Are A Real Team) Harry And I', ts=1542991270000, length=482.24608, page='NextSong', churn=0, phase=0),\n",
       " Row(userId='100007', song='This Is The Future', ts=1542991097000, length=173.63546, page='NextSong', churn=0, phase=0),\n",
       " Row(userId='100007', song='This Blood', ts=1542990769000, length=328.98567, page='NextSong', churn=0, phase=0),\n",
       " Row(userId='100007', song='People Of The Sun', ts=1542990617000, length=152.05832, page='NextSong', churn=0, phase=0),\n",
       " Row(userId='100007', song='IXTAPA', ts=1542990274000, length=343.2224, page='NextSong', churn=0, phase=0),\n",
       " Row(userId='100007', song=None, ts=1542990127000, length=None, page='Roll Advert', churn=0, phase=0),\n",
       " Row(userId='100007', song='Keep You Much Longer', ts=1542990014000, length=260.8322, page='NextSong', churn=0, phase=0),\n",
       " Row(userId='100007', song=None, ts=1542989804000, length=None, page='Add to Playlist', churn=0, phase=0),\n",
       " Row(userId='100007', song='Ego', ts=1542989778000, length=236.35546, page='NextSong', churn=0, phase=0),\n",
       " Row(userId='100007', song=\"Your Easy Lovin' Ain't Pleasin' Nothin'\", ts=1542989596000, length=182.04689, page='NextSong', churn=0, phase=0),\n",
       " Row(userId='100007', song=None, ts=1542989562000, length=None, page='Home', churn=0, phase=0),\n",
       " Row(userId='100007', song=None, ts=1541996471000, length=None, page='Thumbs Up', churn=0, phase=0),\n",
       " Row(userId='100007', song='The Serpentine Offering', ts=1541996470000, length=311.30077, page='NextSong', churn=0, phase=0),\n",
       " Row(userId='100007', song='Bad Bad Things', ts=1541996351000, length=119.87546, page='NextSong', churn=0, phase=0),\n",
       " Row(userId='100007', song='Somebody Told Me', ts=1541996154000, length=197.25016, page='NextSong', churn=0, phase=0),\n",
       " Row(userId='100007', song='Anyone But You (LP Version)', ts=1541995972000, length=182.02077, page='NextSong', churn=0, phase=0),\n",
       " Row(userId='100007', song=None, ts=1541995937000, length=None, page='Home', churn=0, phase=0),\n",
       " Row(userId='100007', song='Butterfly Caught (Radio Edit)', ts=1541599312000, length=455.33995, page='NextSong', churn=0, phase=0),\n",
       " Row(userId='100007', song='Public Pervert', ts=1541599033000, length=279.84934, page='NextSong', churn=0, phase=0),\n",
       " Row(userId='100007', song='So Tinha De Ser Com Voce', ts=1541598844000, length=189.07383, page='NextSong', churn=0, phase=0),\n",
       " Row(userId='100007', song='Los Colores De Una Sombra', ts=1541598564000, length=280.5024, page='NextSong', churn=0, phase=0),\n",
       " Row(userId='100007', song='Seja Voce', ts=1541598416000, length=148.08771, page='NextSong', churn=0, phase=0),\n",
       " Row(userId='100007', song=None, ts=1541598307000, length=None, page='Home', churn=0, phase=0),\n",
       " Row(userId='100007', song='Talk About It', ts=1541598245000, length=171.44118, page='NextSong', churn=0, phase=0),\n",
       " Row(userId='100007', song='Leave My Girl Alone', ts=1541597989000, length=256.15628, page='NextSong', churn=0, phase=0),\n",
       " Row(userId='100007', song=None, ts=1541597989000, length=None, page='Roll Advert', churn=0, phase=0),\n",
       " Row(userId='100007', song='Dope Boys', ts=1541597749000, length=240.48281, page='NextSong', churn=0, phase=0),\n",
       " Row(userId='100007', song='Grape Juice City', ts=1541597514000, length=235.7024, page='NextSong', churn=0, phase=0),\n",
       " Row(userId='100007', song=None, ts=1541597266000, length=None, page='Add Friend', churn=0, phase=0),\n",
       " Row(userId='100007', song='Hello', ts=1541597265000, length=249.62567, page='NextSong', churn=0, phase=0),\n",
       " Row(userId='100007', song='Buttons', ts=1541597040000, length=225.61914, page='NextSong', churn=0, phase=0),\n",
       " Row(userId='100007', song='Last Cup Of Sorrow', ts=1541596791000, length=249.86077, page='NextSong', churn=0, phase=0),\n",
       " Row(userId='100007', song='My World', ts=1541596549000, length=242.99057, page='NextSong', churn=0, phase=0),\n",
       " Row(userId='100007', song=\"Ain't Got A Lot of Money\", ts=1541596288000, length=261.642, page='NextSong', churn=0, phase=0),\n",
       " Row(userId='100007', song='Fruit De La Passion', ts=1541596047000, length=241.29261, page='NextSong', churn=0, phase=0),\n",
       " Row(userId='100007', song=\"I Don't Love You\", ts=1541595879000, length=168.12363, page='NextSong', churn=0, phase=0),\n",
       " Row(userId='100007', song='Devastation And Reform', ts=1541595658000, length=221.64853, page='NextSong', churn=0, phase=0),\n",
       " Row(userId='100007', song='Humming', ts=1541595296000, length=362.31791, page='NextSong', churn=0, phase=0),\n",
       " Row(userId='100007', song='Good Life', ts=1541595043000, length=253.25669, page='NextSong', churn=0, phase=0),\n",
       " Row(userId='100007', song='American Idiot [feat. Green Day & The Cast Of American Idiot] (Album Version)', ts=1541594858000, length=185.12934, page='NextSong', churn=0, phase=0),\n",
       " Row(userId='100007', song=\"When I'm Alone\", ts=1541594565000, length=293.3024, page='NextSong', churn=0, phase=0),\n",
       " Row(userId='100007', song='Where Is My Love', ts=1541594392000, length=173.322, page='NextSong', churn=0, phase=0),\n",
       " Row(userId='100007', song='Some Justice', ts=1541594206000, length=186.95791, page='NextSong', churn=0, phase=0),\n",
       " Row(userId='100007', song=None, ts=1541594200000, length=None, page='Home', churn=0, phase=0),\n",
       " Row(userId='100007', song=None, ts=1540832344000, length=None, page='Logout', churn=0, phase=0),\n",
       " Row(userId='100007', song='Chemical Imbalance', ts=1540832343000, length=186.20036, page='NextSong', churn=0, phase=0),\n",
       " Row(userId='100007', song='You Gotta Be', ts=1540832097000, length=246.30812, page='NextSong', churn=0, phase=0),\n",
       " Row(userId='100007', song='Hotel Yorba', ts=1540831965000, length=132.62322, page='NextSong', churn=0, phase=0),\n",
       " Row(userId='100007', song=None, ts=1540831783000, length=None, page='Home', churn=0, phase=0),\n",
       " Row(userId='100007', song='Say_ Say', ts=1540831758000, length=207.20281, page='NextSong', churn=0, phase=0),\n",
       " Row(userId='100007', song='Journey Of A Fallen Angel', ts=1540831382000, length=376.58077, page='NextSong', churn=0, phase=0),\n",
       " Row(userId='100007', song='Bang Bang', ts=1540831196000, length=186.43546, page='NextSong', churn=0, phase=0),\n",
       " Row(userId='100007', song=None, ts=1540830849000, length=None, page='Roll Advert', churn=0, phase=0),\n",
       " Row(userId='100007', song='Undo', ts=1540830848000, length=348.57751, page='NextSong', churn=0, phase=0),\n",
       " Row(userId='100007', song=\"What's Been Going On\", ts=1540830594000, length=254.01424, page='NextSong', churn=0, phase=0),\n",
       " Row(userId='100007', song=\"Hailie's Song\", ts=1540830274000, length=320.83546, page='NextSong', churn=0, phase=0),\n",
       " Row(userId='100007', song='A Los Ojos', ts=1540830032000, length=242.36363, page='NextSong', churn=0, phase=0),\n",
       " Row(userId='100007', song=None, ts=1540746052000, length=None, page='Add to Playlist', churn=0, phase=0),\n",
       " Row(userId='100007', song='Jesus You Are So Good', ts=1540746038000, length=271.75138, page='NextSong', churn=0, phase=0),\n",
       " Row(userId='100007', song='Rock You', ts=1540745846000, length=192.7571, page='NextSong', churn=0, phase=0),\n",
       " Row(userId='100007', song=None, ts=1540745640000, length=None, page='Downgrade', churn=0, phase=0),\n",
       " Row(userId='100007', song='Horn Concerto No. 4 in E flat K495: II. Romance (Andante cantabile)', ts=1540745569000, length=277.15873, page='NextSong', churn=0, phase=0),\n",
       " Row(userId='100007', song='Good Life', ts=1540745316000, length=253.25669, page='NextSong', churn=0, phase=0),\n",
       " Row(userId='100007', song='Two Words', ts=1540745049000, length=267.38893, page='NextSong', churn=0, phase=0),\n",
       " Row(userId='100007', song='Everything', ts=1540744682000, length=367.12444, page='NextSong', churn=0, phase=0),\n",
       " Row(userId='100007', song='Half Of My Heart', ts=1539951083000, length=250.38322, page='NextSong', churn=0, phase=0),\n",
       " Row(userId='100007', song='Such Great Heights', ts=1539950817000, length=266.47465, page='NextSong', churn=0, phase=0),\n",
       " Row(userId='100007', song=None, ts=1539950696000, length=None, page='Thumbs Up', churn=0, phase=0),\n",
       " Row(userId='100007', song='Lost In America (Explicit Album Version)', ts=1539950695000, length=122.64444, page='NextSong', churn=0, phase=0),\n",
       " Row(userId='100007', song='It Is What It Is', ts=1539950475000, length=220.76036, page='NextSong', churn=0, phase=0),\n",
       " Row(userId='100007', song='Teeth', ts=1539950255000, length=220.65587, page='NextSong', churn=0, phase=0),\n",
       " Row(userId='100007', song=\"Rollin' (Air Raid Vehicle)\", ts=1539950041000, length=214.5171, page='NextSong', churn=0, phase=0),\n",
       " Row(userId='100007', song=None, ts=1539949686000, length=None, page='Home', churn=0, phase=0),\n",
       " Row(userId='100007', song=None, ts=1539949624000, length=None, page='Logout', churn=0, phase=0),\n",
       " Row(userId='100007', song='Baby Tonight', ts=1539949623000, length=418.69016, page='NextSong', churn=0, phase=0),\n",
       " Row(userId='100007', song=None, ts=1539949405000, length=None, page='Downgrade', churn=0, phase=0),\n",
       " Row(userId='100007', song='Fireflies', ts=1539949398000, length=225.17506, page='NextSong', churn=0, phase=0),\n",
       " Row(userId='100007', song='So Insane', ts=1539949206000, length=192.522, page='NextSong', churn=0, phase=0),\n",
       " Row(userId='100007', song=None, ts=1539948976000, length=None, page='Add Friend', churn=0, phase=0),\n",
       " Row(userId='100007', song='Inside The Fire (Album Version)', ts=1539948975000, length=231.99302, page='NextSong', churn=0, phase=0),\n",
       " Row(userId='100007', song='Flower In Rain', ts=1539948715000, length=260.64934, page='NextSong', churn=0, phase=0),\n",
       " Row(userId='100007', song='My Favorite Mutiny (Album Version)', ts=1539948440000, length=275.82649, page='NextSong', churn=0, phase=0),\n",
       " Row(userId='100007', song='Seven Nation Army (Album Version)', ts=1539948209000, length=231.81016, page='NextSong', churn=0, phase=0),\n",
       " Row(userId='100007', song='Young Americans (Single Version) (1998 Digital Remaster)', ts=1539948012000, length=197.27628, page='NextSong', churn=0, phase=0),\n",
       " Row(userId='100007', song='Catch Your Wave (Album Version)', ts=1539947840000, length=172.69506, page='NextSong', churn=0, phase=0),\n",
       " Row(userId='100007', song=\"My Man's Gone Now\", ts=1539947725000, length=115.69587, page='NextSong', churn=0, phase=0),\n",
       " Row(userId='100007', song=None, ts=1539947411000, length=None, page='Thumbs Up', churn=0, phase=0),\n",
       " Row(userId='100007', song='Live To Tell The Tale', ts=1539947410000, length=315.66322, page='NextSong', churn=0, phase=0),\n",
       " Row(userId='100007', song='Bat Country (Album Version)', ts=1539947098000, length=312.11057, page='NextSong', churn=0, phase=0),\n",
       " Row(userId='100007', song='DOA', ts=1539946846000, length=252.52526, page='NextSong', churn=0, phase=0),\n",
       " Row(userId='100007', song=\"Fallin'\", ts=1539946606000, length=240.56118, page='NextSong', churn=0, phase=0),\n",
       " Row(userId='100007', song='The Modern Age', ts=1539946398000, length=208.06485, page='NextSong', churn=0, phase=0),\n",
       " Row(userId='100007', song='Breakeven', ts=1539946138000, length=260.67546, page='NextSong', churn=0, phase=0),\n",
       " Row(userId='100007', song=None, ts=1539945922000, length=None, page='Thumbs Up', churn=0, phase=0),\n",
       " Row(userId='100007', song='No Hay Otra Manera', ts=1539945921000, length=217.44281, page='NextSong', churn=0, phase=0),\n",
       " Row(userId='100007', song=\"Can't Help But Wait (Album Version)\", ts=1539945716000, length=205.81832, page='NextSong', churn=0, phase=0),\n",
       " Row(userId='100007', song='Perfection Or Vanity-Outro', ts=1539945500000, length=216.65914, page='NextSong', churn=0, phase=0),\n",
       " Row(userId='100007', song='Aerial Bright Dark Round', ts=1539945191000, length=309.9424, page='NextSong', churn=0, phase=0),\n",
       " Row(userId='100007', song='Man Ã\\x83Â\\x96ver Bord', ts=1539944796000, length=395.28444, page='NextSong', churn=0, phase=0),\n",
       " Row(userId='100007', song='Wanna Be Loved', ts=1539944594000, length=202.68363, page='NextSong', churn=0, phase=0),\n",
       " Row(userId='100007', song='Davey Jones Locker', ts=1539944375000, length=219.08853, page='NextSong', churn=0, phase=0),\n",
       " Row(userId='100007', song='Ocean Avenue', ts=1539944177000, length=198.32118, page='NextSong', churn=0, phase=0),\n",
       " Row(userId='100007', song=\"Driftin'\", ts=1539943757000, length=420.38812, page='NextSong', churn=0, phase=0),\n",
       " Row(userId='100007', song='Shadow On The Sun', ts=1539943414000, length=343.40526, page='NextSong', churn=0, phase=0),\n",
       " Row(userId='100007', song='Orange TrÃ\\x83Â¤gt Nur Die MÃ\\x83Â¼llabfuhr (Go West)', ts=1539943210000, length=204.17261, page='NextSong', churn=0, phase=0),\n",
       " Row(userId='100007', song=None, ts=1539942979000, length=None, page='Home', churn=0, phase=0),\n",
       " Row(userId='100007', song='Last Cup Of Sorrow', ts=1539942961000, length=249.86077, page='NextSong', churn=0, phase=0),\n",
       " Row(userId='100007', song=None, ts=1539942747000, length=None, page='Home', churn=0, phase=0),\n",
       " Row(userId='100007', song='Karma Police', ts=1539942700000, length=261.45914, page='NextSong', churn=0, phase=0),\n",
       " Row(userId='100007', song='Breaker_ Breaker', ts=1539942479000, length=221.67465, page='NextSong', churn=0, phase=0),\n",
       " Row(userId='100007', song='Hey There Delilah', ts=1539942247000, length=232.202, page='NextSong', churn=0, phase=0),\n",
       " Row(userId='100007', song='Black Hole', ts=1539942005000, length=242.23302, page='NextSong', churn=0, phase=0),\n",
       " Row(userId='100007', song='Devotion', ts=1539941524000, length=481.77587, page='NextSong', churn=0, phase=0),\n",
       " Row(userId='100007', song='Built To Spill', ts=1539941173000, length=351.65995, page='NextSong', churn=0, phase=0),\n",
       " Row(userId='100007', song='Teardrop', ts=1539940960000, length=213.2371, page='NextSong', churn=0, phase=0),\n",
       " Row(userId='100007', song='Who Chooses The Seasons', ts=1539940655000, length=305.37098, page='NextSong', churn=0, phase=0),\n",
       " Row(userId='100007', song='Butterfly', ts=1539940181000, length=474.98404, page='NextSong', churn=0, phase=0),\n",
       " Row(userId='100007', song=None, ts=1539940111000, length=None, page='Home', churn=0, phase=0),\n",
       " Row(userId='100007', song=None, ts=1539940053000, length=None, page='Save Settings', churn=0, phase=0),\n",
       " Row(userId='100007', song=None, ts=1539940052000, length=None, page='Settings', churn=0, phase=0),\n",
       " Row(userId='100007', song='Gel (LP Version)', ts=1539940003000, length=178.36363, page='NextSong', churn=0, phase=0),\n",
       " Row(userId='100007', song='Revelry', ts=1539939802000, length=201.79546, page='NextSong', churn=0, phase=0),\n",
       " Row(userId='100007', song='Got Money', ts=1539939558000, length=244.58404, page='NextSong', churn=0, phase=0),\n",
       " Row(userId='100007', song='N A Whitemanzeyez', ts=1539939251000, length=307.51302, page='NextSong', churn=0, phase=0),\n",
       " Row(userId='100007', song='Take Your Mama', ts=1539938980000, length=271.85587, page='NextSong', churn=0, phase=0),\n",
       " Row(userId='100007', song=\"The Undertaker's Thirst For Revenge Is Unquenchable [The Final Battle] (Album Version)\", ts=1539938727000, length=253.59628, page='NextSong', churn=0, phase=0),\n",
       " Row(userId='100007', song='Use Somebody', ts=1539938496000, length=231.26159, page='NextSong', churn=0, phase=0),\n",
       " Row(userId='100007', song=\"L'ouverture (Overture)\", ts=1539938210000, length=286.71955, page='NextSong', churn=0, phase=0),\n",
       " Row(userId='100007', song='Polaroid Girl', ts=1539938031000, length=179.59138, page='NextSong', churn=0, phase=0),\n",
       " Row(userId='100007', song='Microdaze', ts=1539937630000, length=401.52771, page='NextSong', churn=0, phase=0),\n",
       " Row(userId='100007', song='Chi Mai (El Profesional)', ts=1538779897000, length=215.01342, page='NextSong', churn=0, phase=0),\n",
       " Row(userId='100007', song='Crack A Bottle', ts=1538779600000, length=297.482, page='NextSong', churn=0, phase=0),\n",
       " Row(userId='100007', song='Sei LÃ\\x83Â¡ Mangueira', ts=1538779329000, length=271.49016, page='NextSong', churn=0, phase=0),\n",
       " Row(userId='100007', song=None, ts=1538779140000, length=None, page='Add Friend', churn=0, phase=0),\n",
       " Row(userId='100007', song='Go With The Flow', ts=1538779139000, length=190.35383, page='NextSong', churn=0, phase=0),\n",
       " Row(userId='100007', song=\"Mind's Eye\", ts=1538778843000, length=296.9073, page='NextSong', churn=0, phase=0),\n",
       " Row(userId='100007', song=None, ts=1538778614000, length=None, page='Thumbs Down', churn=0, phase=0),\n",
       " Row(userId='100007', song='Tenuousness', ts=1538778613000, length=230.76526, page='NextSong', churn=0, phase=0),\n",
       " Row(userId='100007', song='O My God', ts=1538778371000, length=242.18077, page='NextSong', churn=0, phase=0),\n",
       " Row(userId='100007', song='Half Of My Mistakes', ts=1538778122000, length=249.62567, page='NextSong', churn=0, phase=0),\n",
       " Row(userId='100007', song='Float On', ts=1538777913000, length=209.52771, page='NextSong', churn=0, phase=0),\n",
       " Row(userId='100007', song='Down To Earth', ts=1538777668000, length=245.73342, page='NextSong', churn=0, phase=0),\n",
       " Row(userId='100007', song='Moonchild (1998 Digital Remaster)', ts=1538777328000, length=340.53179, page='NextSong', churn=0, phase=0),\n",
       " Row(userId='100007', song='On Bended Knee', ts=1538776999000, length=329.79546, page='NextSong', churn=0, phase=0),\n",
       " Row(userId='100007', song='Dog Days Are Over (Radio Edit)', ts=1538776780000, length=219.66322, page='NextSong', churn=0, phase=0),\n",
       " Row(userId='100007', song='Dr. Feelgood', ts=1538776497000, length=283.58485, page='NextSong', churn=0, phase=0),\n",
       " Row(userId='100007', song='Love Story', ts=1538776264000, length=233.89995, page='NextSong', churn=0, phase=0),\n",
       " Row(userId='100007', song='Eple', ts=1538776049000, length=215.11791, page='NextSong', churn=0, phase=0),\n",
       " Row(userId='100007', song='Magic Man', ts=1538775721000, length=328.41098, page='NextSong', churn=0, phase=0),\n",
       " Row(userId='100007', song='Happy Anniversary', ts=1538775447000, length=274.9122, page='NextSong', churn=0, phase=0),\n",
       " Row(userId='100007', song=None, ts=1538775255000, length=None, page='Add to Playlist', churn=0, phase=0),\n",
       " Row(userId='100007', song='A Dios Le Pido', ts=1538775242000, length=205.73995, page='NextSong', churn=0, phase=0),\n",
       " Row(userId='100007', song=\"We Are Nowhere and It's Now\", ts=1538775001000, length=241.34485, page='NextSong', churn=0, phase=0),\n",
       " Row(userId='100007', song='Tribute', ts=1538774449000, length=552.80281, page='NextSong', churn=0, phase=0),\n",
       " Row(userId='100007', song='Dicephalous', ts=1538774205000, length=244.4273, page='NextSong', churn=0, phase=0),\n",
       " Row(userId='100007', song=None, ts=1538774004000, length=None, page='Settings', churn=0, phase=0),\n",
       " Row(userId='100007', song='Comfort', ts=1538773969000, length=236.2771, page='NextSong', churn=0, phase=0),\n",
       " Row(userId='100007', song='VolverÃ\\x83Â©', ts=1538773722000, length=247.77098, page='NextSong', churn=0, phase=0),\n",
       " Row(userId='100007', song='Undo', ts=1538773374000, length=348.57751, page='NextSong', churn=0, phase=0),\n",
       " Row(userId='100007', song='Autumn Wake', ts=1538773055000, length=319.68608, page='NextSong', churn=0, phase=0),\n",
       " Row(userId='100007', song='Kiss You All Over', ts=1538772839000, length=216.37179, page='NextSong', churn=0, phase=0),\n",
       " Row(userId='100007', song=None, ts=1538772688000, length=None, page='Thumbs Up', churn=0, phase=0),\n",
       " Row(userId='100007', song='No Longer Now', ts=1538772687000, length=152.60689, page='NextSong', churn=0, phase=0),\n",
       " Row(userId='100007', song='Hear in colour', ts=1538772428000, length=259.52608, page='NextSong', churn=0, phase=0),\n",
       " Row(userId='100007', song=\"Everything You Touch We Touch First (America'S Mexican)\", ts=1538772162000, length=266.00444, page='NextSong', churn=0, phase=0),\n",
       " Row(userId='100007', song='Mamma', ts=1538771911000, length=251.42812, page='NextSong', churn=0, phase=0),\n",
       " Row(userId='100007', song='In Your Honor', ts=1538771681000, length=230.08608, page='NextSong', churn=0, phase=0),\n",
       " Row(userId='100007', song='Befriend The Friendless Friendster', ts=1538771463000, length=218.93179, page='NextSong', churn=0, phase=0),\n",
       " Row(userId='100007', song='EMOTIONS', ts=1538771114000, length=349.54404, page='NextSong', churn=0, phase=0),\n",
       " Row(userId='100007', song='Que Te Jodan', ts=1538770922000, length=192.15628, page='NextSong', churn=0, phase=0),\n",
       " Row(userId='100007', song='ton plat favori', ts=1538770770000, length=152.11057, page='NextSong', churn=0, phase=0),\n",
       " Row(userId='100007', song='Orange TrÃ\\x83Â¤gt Nur Die MÃ\\x83Â¼llabfuhr (Go West)', ts=1538770566000, length=204.17261, page='NextSong', churn=0, phase=0),\n",
       " Row(userId='100007', song='Lively Up Yourself', ts=1538770393000, length=173.24363, page='NextSong', churn=0, phase=0),\n",
       " Row(userId='100007', song=\"She's Got You High\", ts=1538770188000, length=205.24363, page='NextSong', churn=0, phase=0),\n",
       " Row(userId='100007', song='Call Me (LP Version)', ts=1538769958000, length=230.60853, page='NextSong', churn=0, phase=0),\n",
       " Row(userId='100007', song='LetÃ\\x82Â´s Buy Happiness', ts=1538769726000, length=232.59383, page='NextSong', churn=0, phase=0),\n",
       " Row(userId='100007', song='Cold As You', ts=1538491540000, length=238.99383, page='NextSong', churn=0, phase=0),\n",
       " Row(userId='100007', song='Tighten Up', ts=1538491329000, length=211.01669, page='NextSong', churn=0, phase=0),\n",
       " Row(userId='100007', song='So Boot If At All', ts=1538490885000, length=444.00281, page='NextSong', churn=0, phase=0),\n",
       " Row(userId='100007', song='Hand In Hand', ts=1538490702000, length=183.17016, page='NextSong', churn=0, phase=0),\n",
       " Row(userId='100007', song='Tive Sim', ts=1538490575000, length=127.242, page='NextSong', churn=0, phase=0),\n",
       " Row(userId='100007', song='Come As You Are', ts=1538490356000, length=219.08853, page='NextSong', churn=0, phase=0),\n",
       " Row(userId='100007', song='Bulletproof', ts=1538490151000, length=205.60934, page='NextSong', churn=0, phase=0),\n",
       " Row(userId='100007', song='Surrection', ts=1538489911000, length=240.19546, page='NextSong', churn=0, phase=0),\n",
       " Row(userId='100007', song='The Game Of Love', ts=1538489786000, length=125.98812, page='NextSong', churn=0, phase=0),\n",
       " Row(userId='100007', song='High School Musical', ts=1538489554000, length=232.93342, page='NextSong', churn=0, phase=0),\n",
       " Row(userId='100007', song=None, ts=1538489335000, length=None, page='Thumbs Down', churn=0, phase=0),\n",
       " Row(userId='100007', song='Safe', ts=1538489334000, length=220.86485, page='NextSong', churn=0, phase=0),\n",
       " Row(userId='100007', song=None, ts=1538489116000, length=None, page='Add Friend', churn=0, phase=0),\n",
       " Row(userId='100007', song=None, ts=1538489115000, length=None, page='Add Friend', churn=0, phase=0),\n",
       " Row(userId='100007', song='Second Chance (Album Version)', ts=1538489114000, length=220.39465, page='NextSong', churn=0, phase=0),\n",
       " Row(userId='100007', song=\"She's Royal\", ts=1538488865000, length=249.5473, page='NextSong', churn=0, phase=0),\n",
       " Row(userId='100007', song='Open Your Window', ts=1538488622000, length=243.19955, page='NextSong', churn=0, phase=0),\n",
       " Row(userId='100007', song='Burden In My Hand', ts=1538488332000, length=290.11546, page='NextSong', churn=0, phase=0),\n",
       " Row(userId='100007', song='La Nina', ts=1538488039000, length=293.56363, page='NextSong', churn=0, phase=0),\n",
       " Row(userId='100007', song=None, ts=1538487808000, length=None, page='Home', churn=0, phase=0),\n",
       " Row(userId='100007', song='Brothers & Sisters', ts=1538487750000, length=289.04444, page='NextSong', churn=0, phase=0),\n",
       " Row(userId='100007', song=\"Where'd You Go (Featuring Holly Brook & Jonah Matranga) (Album Version)\", ts=1538487517000, length=233.37751, page='NextSong', churn=0, phase=0),\n",
       " Row(userId='100007', song='Beautiful', ts=1538487306000, length=211.66975, page='NextSong', churn=0, phase=0),\n",
       " Row(userId='100007', song='The Waiting', ts=1538487068000, length=238.21016, page='NextSong', churn=0, phase=0),\n",
       " Row(userId='100007', song='La Media Vuelta', ts=1538486907000, length=161.04444, page='NextSong', churn=0, phase=0),\n",
       " Row(userId='100007', song=\"L'Amore Si Odia\", ts=1538486715000, length=192.46975, page='NextSong', churn=0, phase=0),\n",
       " Row(userId='100007', song='Watermark', ts=1538486572000, length=143.28118, page='NextSong', churn=0, phase=0),\n",
       " Row(userId='100007', song=None, ts=1538486361000, length=None, page='Add to Playlist', churn=0, phase=0),\n",
       " Row(userId='100007', song='Alejandro', ts=1538486298000, length=274.18077, page='NextSong', churn=0, phase=0),\n",
       " Row(userId='100007', song='Alma Rosa (Salsa Version)', ts=1538486024000, length=274.38975, page='NextSong', churn=0, phase=0),\n",
       " Row(userId='100007', song=\"Rock 'n' Roll Fantasy\", ts=1538485808000, length=216.42404, page='NextSong', churn=0, phase=0),\n",
       " Row(userId='100007', song='Bigmouth Strikes Again', ts=1538485614000, length=194.53342, page='NextSong', churn=0, phase=0),\n",
       " Row(userId='100007', song='West Counrty Girl', ts=1538485449000, length=165.27628, page='NextSong', churn=0, phase=0),\n",
       " Row(userId='100007', song=None, ts=1538485335000, length=None, page='Home', churn=0, phase=0),\n",
       " Row(userId='100007', song=None, ts=1538485319000, length=None, page='Downgrade', churn=0, phase=0),\n",
       " Row(userId='100007', song='I Write Sins Not Tragedies [Live In Chicago]', ts=1538485252000, length=197.74649, page='NextSong', churn=0, phase=0),\n",
       " Row(userId='100007', song='Dance Hall', ts=1538485075000, length=177.05751, page='NextSong', churn=0, phase=0),\n",
       " Row(userId='100007', song='All You Ever Hear', ts=1538484829000, length=246.41261, page='NextSong', churn=0, phase=0),\n",
       " Row(userId='100007', song=\"It's My Party\", ts=1538484695000, length=134.37342, page='NextSong', churn=0, phase=0),\n",
       " Row(userId='100007', song='Good Bye Emily (feat. Gabriella Hanninen)', ts=1538484492000, length=203.65016, page='NextSong', churn=0, phase=0),\n",
       " Row(userId='100007', song='Raga Haripriya', ts=1538482822000, length=1670.45179, page='NextSong', churn=0, phase=0),\n",
       " Row(userId='100007', song='Human After All (SebastiAn Remix )', ts=1538482536000, length=286.6673, page='NextSong', churn=0, phase=0),\n",
       " Row(userId='100007', song=None, ts=1538482345000, length=None, page='Help', churn=0, phase=0),\n",
       " Row(userId='100007', song=None, ts=1538482340000, length=None, page='Help', churn=0, phase=0),\n",
       " Row(userId='100007', song='Human After All', ts=1538482337000, length=199.94077, page='NextSong', churn=0, phase=0),\n",
       " Row(userId='100007', song=None, ts=1538482122000, length=None, page='Thumbs Down', churn=0, phase=0),\n",
       " Row(userId='100007', song='Live Tomorrow', ts=1538482121000, length=216.65914, page='NextSong', churn=0, phase=0),\n",
       " Row(userId='100007', song='All Four Seasons', ts=1538481853000, length=268.32934, page='NextSong', churn=0, phase=0),\n",
       " Row(userId='100007', song='Sunshine (I Can Fly) (Radio Edit)', ts=1538481654000, length=199.31383, page='NextSong', churn=0, phase=0),\n",
       " Row(userId='100007', song='Recycled Air (Album)', ts=1538481385000, length=269.45261, page='NextSong', churn=0, phase=0),\n",
       " Row(userId='100007', song='Use Somebody', ts=1538481154000, length=231.26159, page='NextSong', churn=0, phase=0),\n",
       " Row(userId='100007', song='Science Of Silence', ts=1538480900000, length=254.95465, page='NextSong', churn=0, phase=0),\n",
       " Row(userId='100007', song='This Is The Future', ts=1538480727000, length=173.63546, page='NextSong', churn=0, phase=0),\n",
       " Row(userId='100007', song='Cheft El Khof', ts=1538480454000, length=273.37098, page='NextSong', churn=0, phase=0),\n",
       " Row(userId='100007', song='Sun It Rises', ts=1538480263000, length=191.4771, page='NextSong', churn=0, phase=0),\n",
       " Row(userId='100007', song='Aplomb', ts=1538480193000, length=70.71302, page='NextSong', churn=0, phase=0),\n",
       " Row(userId='100007', song='Perfecta', ts=1538479964000, length=229.82485, page='NextSong', churn=0, phase=0),\n",
       " Row(userId='100007', song=None, ts=1538479911000, length=None, page='Add Friend', churn=0, phase=0),\n",
       " Row(userId='100007', song='Radio Broadcast', ts=1538479910000, length=54.67383, page='NextSong', churn=0, phase=0),\n",
       " Row(userId='100007', song='Blame It On The Boogie', ts=1538479699000, length=211.19955, page='NextSong', churn=0, phase=0),\n",
       " Row(userId='100007', song='We Use The Pain', ts=1538479549000, length=150.49098, page='NextSong', churn=0, phase=0),\n",
       " Row(userId='100007', song='Mia', ts=1538479345000, length=204.79955, page='NextSong', churn=0, phase=0),\n",
       " Row(userId='100007', song='Amarantine (album version)', ts=1538479155000, length=190.53669, page='NextSong', churn=0, phase=0),\n",
       " Row(userId='100007', song=\"I'm Her Slave (Album)\", ts=1538478976000, length=179.40853, page='NextSong', churn=0, phase=0),\n",
       " Row(userId='100007', song='Everything I Try to Do_ Nothing Seems to Turn Out Right', ts=1538478734000, length=242.59873, page='NextSong', churn=0, phase=0),\n",
       " Row(userId='100007', song=\"Shake 'N Bake\", ts=1538478562000, length=172.45995, page='NextSong', churn=0, phase=0),\n",
       " Row(userId='100007', song=\"Lovin' In Vain\", ts=1538478432000, length=130.40281, page='NextSong', churn=0, phase=0),\n",
       " Row(userId='100007', song='Bryn (Album)', ts=1538478299000, length=133.22404, page='NextSong', churn=0, phase=0),\n",
       " Row(userId='100007', song='War Of My Life', ts=1538478044000, length=255.11138, page='NextSong', churn=0, phase=0),\n",
       " Row(userId='100007', song='Just Say Yes', ts=1538477760000, length=284.1073, page='NextSong', churn=0, phase=0),\n",
       " Row(userId='100007', song='The Stallion', ts=1538477484000, length=276.13995, page='NextSong', churn=0, phase=0),\n",
       " Row(userId='100007', song='Enjoy Your Day', ts=1538477347000, length=137.92608, page='NextSong', churn=0, phase=0),\n",
       " Row(userId='100007', song='Mushaboom', ts=1538477124000, length=223.7122, page='NextSong', churn=0, phase=0),\n",
       " Row(userId='100007', song=None, ts=1538476980000, length=None, page='Home', churn=0, phase=0),\n",
       " Row(userId='100007', song=None, ts=1538476962000, length=None, page='Logout', churn=0, phase=0),\n",
       " Row(userId='100007', song=None, ts=1538476961000, length=None, page='Roll Advert', churn=0, phase=0),\n",
       " Row(userId='100007', song='Black Sheep - (with John Anderson)', ts=1538476919000, length=205.40036, page='NextSong', churn=0, phase=0),\n",
       " Row(userId='100007', song='Talk To Me_ Dance With Me', ts=1538476752000, length=167.73179, page='NextSong', churn=0, phase=0),\n",
       " Row(userId='100007', song='A Little Bit Longer', ts=1538476548000, length=204.9824, page='NextSong', churn=0, phase=0),\n",
       " Row(userId='100007', song=\"I CAN'T GET STARTED\", ts=1538476051000, length=497.13587, page='NextSong', churn=0, phase=0),\n",
       " Row(userId='100007', song='Go To Sleep', ts=1538475850000, length=201.56036, page='NextSong', churn=0, phase=0),\n",
       " Row(userId='100007', song='Meisterwerk', ts=1538475557000, length=293.56363, page='NextSong', churn=0, phase=0),\n",
       " Row(userId='100007', song=None, ts=1538475443000, length=None, page='Home', churn=0, phase=0),\n",
       " Row(userId='100007', song=None, ts=1538475303000, length=None, page='Logout', churn=0, phase=0),\n",
       " Row(userId='100007', song=None, ts=1538475302000, length=None, page='Downgrade', churn=0, phase=0),\n",
       " Row(userId='100007', song=None, ts=1538475293000, length=None, page='Home', churn=0, phase=0),\n",
       " Row(userId='100007', song='Tomorrow Tomorrow', ts=1538475234000, length=187.11465, page='NextSong', churn=0, phase=0),\n",
       " Row(userId='100007', song='The Quiet Place', ts=1538475030000, length=204.25098, page='NextSong', churn=0, phase=0),\n",
       " Row(userId='100007', song='Olds Mobil - RocktrÃ\\x83Â³ger', ts=1538474949000, length=81.81506, page='NextSong', churn=0, phase=0),\n",
       " Row(userId='100007', song='Love Story', ts=1538474716000, length=233.89995, page='NextSong', churn=0, phase=0),\n",
       " Row(userId='100007', song=\"Say_ Won'T You Be Mine\", ts=1538474554000, length=162.21995, page='NextSong', churn=0, phase=0),\n",
       " Row(userId='100007', song='All The Right Moves', ts=1538474317000, length=237.97506, page='NextSong', churn=0, phase=0),\n",
       " Row(userId='100007', song='Crazy In Love', ts=1538474082000, length=235.93751, page='NextSong', churn=0, phase=0),\n",
       " Row(userId='100007', song='Masculine Eclipse', ts=1538473846000, length=236.5122, page='NextSong', churn=0, phase=0),\n",
       " Row(userId='100007', song=None, ts=1538473620000, length=None, page='Thumbs Up', churn=0, phase=0),\n",
       " Row(userId='100007', song='All I Do Is Win (feat. T-Pain_ Ludacris_ Snoop Dogg & Rick Ross)', ts=1538473619000, length=227.082, page='NextSong', churn=0, phase=0),\n",
       " Row(userId='100007', song='Girl Named Tennessee (Album Version)', ts=1538473444000, length=175.85587, page='NextSong', churn=0, phase=0),\n",
       " Row(userId='100007', song='Born Secular', ts=1538473135000, length=309.89016, page='NextSong', churn=0, phase=0),\n",
       " Row(userId='100007', song=None, ts=1538472948000, length=None, page='Thumbs Up', churn=0, phase=0),\n",
       " Row(userId='100007', song='Doctor (Album Version)', ts=1538472947000, length=188.96934, page='NextSong', churn=0, phase=0),\n",
       " Row(userId='100007', song='As I Moved On', ts=1538472665000, length=282.122, page='NextSong', churn=0, phase=0),\n",
       " Row(userId='100007', song='Lime Tree', ts=1538472311000, length=354.97751, page='NextSong', churn=0, phase=0),\n",
       " Row(userId='100007', song='Planet Rock', ts=1538471992000, length=319.9473, page='NextSong', churn=0, phase=0),\n",
       " Row(userId='100007', song='Poem To A Horse', ts=1538471746000, length=246.43873, page='NextSong', churn=0, phase=0),\n",
       " Row(userId='100007', song=None, ts=1538471462000, length=None, page='Thumbs Down', churn=0, phase=0),\n",
       " Row(userId='100007', song='Hit Song', ts=1538471461000, length=285.09995, page='NextSong', churn=0, phase=0),\n",
       " Row(userId='100007', song='The Heart Of Life', ts=1538471263000, length=198.19057, page='NextSong', churn=0, phase=0),\n",
       " Row(userId='100007', song='Streets Of London', ts=1538471015000, length=248.55465, page='NextSong', churn=0, phase=0),\n",
       " Row(userId='100007', song='The Prince', ts=1538470751000, length=264.77669, page='NextSong', churn=0, phase=0),\n",
       " Row(userId='100007', song=None, ts=1538470532000, length=None, page='Thumbs Up', churn=0, phase=0),\n",
       " Row(userId='100007', song='I Was Once_ Possibly_ Maybe_ Perhaps A Cowboy King (feat. NO)', ts=1538470531000, length=220.86485, page='NextSong', churn=0, phase=0),\n",
       " Row(userId='100007', song='Fear is my buisness', ts=1538470363000, length=168.48934, page='NextSong', churn=0, phase=0),\n",
       " Row(userId='100007', song='Paper Planes', ts=1538470157000, length=206.13179, page='NextSong', churn=0, phase=0),\n",
       " Row(userId='100007', song=None, ts=1538469961000, length=None, page='Add Friend', churn=0, phase=0),\n",
       " Row(userId='100007', song='Juegos De SeducciÃ\\x83Â³n', ts=1538469960000, length=197.69424, page='NextSong', churn=0, phase=0),\n",
       " Row(userId='100007', song='One And Only', ts=1538469766000, length=194.7424, page='NextSong', churn=0, phase=0),\n",
       " Row(userId='100007', song=\"Love Don't Let Me Go (Walking Away)\", ts=1538469570000, length=196.20526, page='NextSong', churn=0, phase=0),\n",
       " Row(userId='100007', song='Bloodhounds On My Trail', ts=1538469339000, length=231.81016, page='NextSong', churn=0, phase=0),\n",
       " Row(userId='100007', song='Super Freak', ts=1538469132000, length=207.01995, page='NextSong', churn=0, phase=0),\n",
       " Row(userId='100007', song='Utilidade Do Humor', ts=1538468866000, length=266.52689, page='NextSong', churn=0, phase=0),\n",
       " Row(userId='100007', song=None, ts=1538468663000, length=None, page='Thumbs Up', churn=0, phase=0),\n",
       " Row(userId='100007', song=\"Crockett's Theme\", ts=1538468662000, length=204.43383, page='NextSong', churn=0, phase=0),\n",
       " Row(userId='100007', song='Until The Morning', ts=1538468426000, length=236.5122, page='NextSong', churn=0, phase=0),\n",
       " Row(userId='100007', song='No Regrets', ts=1538468247000, length=179.01669, page='NextSong', churn=0, phase=0),\n",
       " Row(userId='100007', song=None, ts=1538468145000, length=None, page='Add to Playlist', churn=0, phase=0),\n",
       " Row(userId='100007', song='The Maestro', ts=1538468075000, length=172.22485, page='NextSong', churn=0, phase=0),\n",
       " Row(userId='100007', song='Lonely Starts & Broken Hearts (Album Version)', ts=1538467939000, length=136.12363, page='NextSong', churn=0, phase=0),\n",
       " Row(userId='100007', song='Lift Me Up', ts=1538467743000, length=196.75383, page='NextSong', churn=0, phase=0),\n",
       " Row(userId='100007', song='Weird Fishes/Arpeggi', ts=1538467426000, length=317.93587, page='NextSong', churn=0, phase=0),\n",
       " Row(userId='100007', song='All gone to hell', ts=1538467205000, length=221.09995, page='NextSong', churn=0, phase=0),\n",
       " Row(userId='100007', song=None, ts=1538467035000, length=None, page='Downgrade', churn=0, phase=0),\n",
       " Row(userId='100007', song='Alcohol', ts=1538466984000, length=221.25669, page='NextSong', churn=0, phase=0),\n",
       " Row(userId='100007', song='Stronger', ts=1538466673000, length=311.92771, page='NextSong', churn=0, phase=0),\n",
       " Row(userId='100007', song='Let It Go', ts=1538466374000, length=299.85914, page='NextSong', churn=0, phase=0),\n",
       " Row(userId='100007', song='Astrud Astronette', ts=1538466169000, length=205.42649, page='NextSong', churn=0, phase=0),\n",
       " Row(userId='100007', song='1000 Seconds (Album Version)', ts=1538465854000, length=315.402, page='NextSong', churn=0, phase=0),\n",
       " Row(userId='100007', song='Rampage', ts=1538465620000, length=234.21342, page='NextSong', churn=0, phase=0),\n",
       " Row(userId='100007', song=None, ts=1538465427000, length=None, page='Add to Playlist', churn=0, phase=0),\n",
       " Row(userId='100007', song='Reign Of The Tyrants', ts=1538465403000, length=217.99138, page='NextSong', churn=0, phase=0)]"
      ]
     },
     "execution_count": 24,
     "metadata": {},
     "output_type": "execute_result"
    }
   ],
   "source": [
    "# 按时间逆序查看ID为100007的用户的情况\n",
    "df_phase.where(df[\"userId\"] == 100007).select([\"userId\", \"song\", \"ts\", \"length\", \"page\", \"churn\", \"phase\"]).orderBy(desc(\"ts\")).collect()"
   ]
  },
  {
   "cell_type": "markdown",
   "metadata": {},
   "source": [
    "可以发现，用户125是因为取消页面和确认取消页面的timestamp完全相同，从而导致window窗求和时把取消页面排在了确认取消页面的后面。"
   ]
  },
  {
   "cell_type": "markdown",
   "metadata": {},
   "source": [
    "## 3.2 探索单个变量\n",
    "\n",
    "查看每列数据的类型和取值情况，对于类别型数据和离散数值型数据可以绘制柱状图查看分布情况，对于连续数值型数据可以绘制分布直方图查看分布情况，接下来对各列的变量进行探索分析。"
   ]
  },
  {
   "cell_type": "code",
   "execution_count": 25,
   "metadata": {},
   "outputs": [
    {
     "name": "stdout",
     "output_type": "stream",
     "text": [
      "流失用户占总用户量的百分比: 23.11%\n"
     ]
    }
   ],
   "source": [
    "# 查看流失用户数量及占总用户量的百分比\n",
    "cancelled_rate = df.groupBy('userId').sum().select(avg('sum(churn)')).collect()[0][0]\n",
    "print('流失用户占总用户量的百分比: {:.2f}%'.format(cancelled_rate * 100))"
   ]
  },
  {
   "cell_type": "code",
   "execution_count": 26,
   "metadata": {},
   "outputs": [
    {
     "name": "stdout",
     "output_type": "stream",
     "text": [
      "艺术家的数量：17656\n"
     ]
    }
   ],
   "source": [
    "# 查看艺术家数量\n",
    "artist_num = df.select('artist').distinct().count()\n",
    "print('艺术家的数量：{}'.format(artist_num))"
   ]
  },
  {
   "cell_type": "code",
   "execution_count": 27,
   "metadata": {},
   "outputs": [
    {
     "name": "stdout",
     "output_type": "stream",
     "text": [
      "歌曲的数量：58481\n"
     ]
    }
   ],
   "source": [
    "# 查看歌曲数量\n",
    "song_num = df.select('song').distinct().count()\n",
    "print('歌曲的数量：{}'.format(song_num))"
   ]
  },
  {
   "cell_type": "code",
   "execution_count": 28,
   "metadata": {},
   "outputs": [
    {
     "name": "stdout",
     "output_type": "stream",
     "text": [
      "+--------------------+------------+\n",
      "|              artist|artist_count|\n",
      "+--------------------+------------+\n",
      "|       Kings Of Leon|        1841|\n",
      "|            Coldplay|        1813|\n",
      "|Florence + The Ma...|        1236|\n",
      "|       Dwight Yoakam|        1135|\n",
      "|            BjÃÂ¶rk|        1133|\n",
      "|      The Black Keys|        1125|\n",
      "|                Muse|        1090|\n",
      "|       Justin Bieber|        1044|\n",
      "|        Jack Johnson|        1007|\n",
      "|              Eminem|         953|\n",
      "|           Radiohead|         884|\n",
      "|     Alliance Ethnik|         876|\n",
      "|               Train|         854|\n",
      "|        Taylor Swift|         840|\n",
      "|         OneRepublic|         828|\n",
      "|         The Killers|         822|\n",
      "|         Linkin Park|         787|\n",
      "|         Evanescence|         781|\n",
      "|            Harmonia|         729|\n",
      "|       Guns N' Roses|         713|\n",
      "+--------------------+------------+\n",
      "only showing top 20 rows\n",
      "\n"
     ]
    }
   ],
   "source": [
    "# 查看艺术家被浏览的排行\n",
    "df.groupBy('artist') \\\n",
    "    .agg({'artist': 'count'}) \\\n",
    "    .withColumnRenamed('count(artist)', 'artist_count') \\\n",
    "    .orderBy('artist_count', ascending=0).show()"
   ]
  },
  {
   "cell_type": "markdown",
   "metadata": {},
   "source": [
    "可以看出，播放量最高的艺术家是Kings Of Leon"
   ]
  },
  {
   "cell_type": "code",
   "execution_count": 29,
   "metadata": {},
   "outputs": [
    {
     "name": "stdout",
     "output_type": "stream",
     "text": [
      "+--------------------+----------+\n",
      "|                song|song_count|\n",
      "+--------------------+----------+\n",
      "|      You're The One|      1153|\n",
      "|                Undo|      1026|\n",
      "|             Revelry|       854|\n",
      "|       Sehr kosmisch|       728|\n",
      "|Horn Concerto No....|       641|\n",
      "|Dog Days Are Over...|       574|\n",
      "|             Secrets|       466|\n",
      "|        Use Somebody|       459|\n",
      "|              Canada|       435|\n",
      "|             Invalid|       424|\n",
      "|    Ain't Misbehavin|       409|\n",
      "|       ReprÃÂ©sente|       393|\n",
      "|SinceritÃÂ© Et J...|       384|\n",
      "|Catch You Baby (S...|       373|\n",
      "|              Yellow|       343|\n",
      "|    Somebody To Love|       343|\n",
      "|    Hey_ Soul Sister|       334|\n",
      "|            The Gift|       327|\n",
      "|           Fireflies|       312|\n",
      "|          Love Story|       309|\n",
      "+--------------------+----------+\n",
      "only showing top 20 rows\n",
      "\n"
     ]
    }
   ],
   "source": [
    "# 查看歌曲播放的排行\n",
    "df.groupBy('song') \\\n",
    "    .agg({'song': 'count'}) \\\n",
    "    .withColumnRenamed('count(song)', 'song_count') \\\n",
    "    .orderBy('song_count', ascending=0).show()"
   ]
  },
  {
   "cell_type": "code",
   "execution_count": 30,
   "metadata": {
    "scrolled": true
   },
   "outputs": [
    {
     "name": "stdout",
     "output_type": "stream",
     "text": [
      "+---------+\n",
      "|     auth|\n",
      "+---------+\n",
      "|Cancelled|\n",
      "|Logged In|\n",
      "+---------+\n",
      "\n"
     ]
    }
   ],
   "source": [
    "# 查看用户登陆状态的取值\n",
    "df.select('auth').dropDuplicates().show()"
   ]
  },
  {
   "cell_type": "code",
   "execution_count": 31,
   "metadata": {},
   "outputs": [
    {
     "name": "stdout",
     "output_type": "stream",
     "text": [
      "+---------+------+\n",
      "|     auth| count|\n",
      "+---------+------+\n",
      "|Cancelled|    52|\n",
      "|Logged In|278102|\n",
      "+---------+------+\n",
      "\n"
     ]
    }
   ],
   "source": [
    "#查看用户登录状态的分布\n",
    "df.groupBy('auth').count().show()"
   ]
  },
  {
   "cell_type": "markdown",
   "metadata": {},
   "source": [
    "大多数时候处于登陆状态，取消状态占比很低"
   ]
  },
  {
   "cell_type": "code",
   "execution_count": 32,
   "metadata": {},
   "outputs": [
    {
     "data": {
      "image/png": "[encoded data removed]",
      "text/plain": [
       "<matplotlib.figure.Figure at 0x7f7d3ed11978>"
      ]
     },
     "metadata": {
      "needs_background": "light"
     },
     "output_type": "display_data"
    }
   ],
   "source": [
    "#绘制用户性别的柱状图\n",
    "gender_info = df.groupBy('userId','gender').count().select(['userId', 'gender']).groupBy('gender').count().collect()\n",
    "gender_vals = []\n",
    "gender_cnts = []\n",
    "for gender_val, gender_cnt in gender_info:\n",
    "    gender_vals.append(gender_val)\n",
    "    gender_cnts.append(gender_cnt)\n",
    "fig = plt.figure(figsize=(8, 6))\n",
    "ax = fig.add_subplot(111)\n",
    "ax.bar(range(len(gender_vals)), gender_cnts, width=0.5, tick_label=gender_vals)\n",
    "ax.set_title('User counts of different genders')\n",
    "ax.set_xlabel('gender')\n",
    "ax.set_ylabel('count')\n",
    "plt.show()"
   ]
  },
  {
   "cell_type": "markdown",
   "metadata": {},
   "source": [
    "男性用户略多于女性用户"
   ]
  },
  {
   "cell_type": "code",
   "execution_count": 33,
   "metadata": {},
   "outputs": [
    {
     "name": "stdout",
     "output_type": "stream",
     "text": [
      "+---------+-----+\n",
      "|firstName|count|\n",
      "+---------+-----+\n",
      "|   Payton| 9632|\n",
      "|    Riley| 7970|\n",
      "|   Lucero| 6880|\n",
      "|   Emilia| 5732|\n",
      "|     Emma| 5478|\n",
      "|   Joseph| 5209|\n",
      "|    Colin| 4989|\n",
      "|   Nicole| 4825|\n",
      "|   Joshua| 4654|\n",
      "|  Brayden| 4621|\n",
      "|  Alyssia| 4428|\n",
      "|   Jayden| 4268|\n",
      "|   Dillyn| 4257|\n",
      "|   Sophia| 4246|\n",
      "|   Bryson| 4172|\n",
      "|  Katiana| 3769|\n",
      "|   Oliver| 3657|\n",
      "|    Kaleb| 3603|\n",
      "|   Samuel| 3486|\n",
      "|    Alexi| 3437|\n",
      "+---------+-----+\n",
      "only showing top 20 rows\n",
      "\n"
     ]
    }
   ],
   "source": [
    "#查看first name\n",
    "df.groupBy('firstName').count().orderBy('count', ascending=False).show()"
   ]
  },
  {
   "cell_type": "code",
   "execution_count": 34,
   "metadata": {},
   "outputs": [
    {
     "name": "stdout",
     "output_type": "stream",
     "text": [
      "+----------+-----+\n",
      "|  lastName|count|\n",
      "+----------+-----+\n",
      "|  Campbell|14060|\n",
      "|      Reed| 9284|\n",
      "|  Williams| 8410|\n",
      "|    Taylor| 7230|\n",
      "|   Johnson| 6106|\n",
      "|    Larson| 6105|\n",
      "|     House| 5732|\n",
      "|  Thompson| 5217|\n",
      "|     Jones| 4831|\n",
      "|      Beck| 4825|\n",
      "|     Allen| 4659|\n",
      "|   Stewart| 4461|\n",
      "|    Miller| 4428|\n",
      "|    Thomas| 4370|\n",
      "|Richardson| 4257|\n",
      "|  Phillips| 4002|\n",
      "|  Robinson| 3890|\n",
      "|   Daniels| 3769|\n",
      "|  Roberson| 3761|\n",
      "|      Long| 3483|\n",
      "+----------+-----+\n",
      "only showing top 20 rows\n",
      "\n"
     ]
    }
   ],
   "source": [
    "#查看last name\n",
    "df.groupBy('lastName').count().orderBy('count', ascending=False).show()"
   ]
  },
  {
   "cell_type": "code",
   "execution_count": 35,
   "metadata": {},
   "outputs": [
    {
     "name": "stdout",
     "output_type": "stream",
     "text": [
      "+-------+------------------+\n",
      "|summary|     itemInSession|\n",
      "+-------+------------------+\n",
      "|  count|            278154|\n",
      "|   mean|114.89918174824018|\n",
      "| stddev|  129.851729399489|\n",
      "|    min|                 0|\n",
      "|    max|              1321|\n",
      "+-------+------------------+\n",
      "\n"
     ]
    }
   ],
   "source": [
    "# 查看itemsession的描述统计量\n",
    "df.select('itemInSession').describe().show()"
   ]
  },
  {
   "cell_type": "code",
   "execution_count": 36,
   "metadata": {},
   "outputs": [
    {
     "data": {
      "text/plain": [
       "1311"
      ]
     },
     "execution_count": 36,
     "metadata": {},
     "output_type": "execute_result"
    }
   ],
   "source": [
    "# 查看itemsession的取值个数\n",
    "df.select('itemInSession').dropDuplicates().count()"
   ]
  },
  {
   "cell_type": "code",
   "execution_count": 37,
   "metadata": {},
   "outputs": [
    {
     "name": "stdout",
     "output_type": "stream",
     "text": [
      "+-------+-----------------+\n",
      "|summary|           length|\n",
      "+-------+-----------------+\n",
      "|  count|           228108|\n",
      "|   mean|249.1171819778458|\n",
      "| stddev|99.23517921058361|\n",
      "|    min|          0.78322|\n",
      "|    max|       3024.66567|\n",
      "+-------+-----------------+\n",
      "\n"
     ]
    }
   ],
   "source": [
    "# 查看歌曲长度的描述统计量\n",
    "df.select('length').describe().show()"
   ]
  },
  {
   "cell_type": "code",
   "execution_count": 38,
   "metadata": {
    "scrolled": true
   },
   "outputs": [
    {
     "name": "stdout",
     "output_type": "stream",
     "text": [
      "+-----+------+\n",
      "|level| count|\n",
      "+-----+------+\n",
      "| free| 55721|\n",
      "| paid|222433|\n",
      "+-----+------+\n",
      "\n"
     ]
    }
   ],
   "source": [
    "# 查看用户级别的取值\n",
    "df.groupBy('level').count().show()"
   ]
  },
  {
   "cell_type": "markdown",
   "metadata": {},
   "source": [
    "大部分为付费状态下和软件进行交互"
   ]
  },
  {
   "cell_type": "code",
   "execution_count": 39,
   "metadata": {},
   "outputs": [
    {
     "name": "stdout",
     "output_type": "stream",
     "text": [
      "+--------------------+-----+\n",
      "|            location|count|\n",
      "+--------------------+-----+\n",
      "|Los Angeles-Long ...|30131|\n",
      "|New York-Newark-J...|23684|\n",
      "|Boston-Cambridge-...|13873|\n",
      "|Houston-The Woodl...| 9499|\n",
      "|Charlotte-Concord...| 7780|\n",
      "|Dallas-Fort Worth...| 7605|\n",
      "|Louisville/Jeffer...| 6880|\n",
      "|Philadelphia-Camd...| 5890|\n",
      "|Chicago-Napervill...| 5114|\n",
      "|    St. Louis, MO-IL| 4858|\n",
      "|Phoenix-Mesa-Scot...| 4846|\n",
      "|Vineland-Bridgeto...| 4825|\n",
      "|          Wilson, NC| 4659|\n",
      "|Denver-Aurora-Lak...| 4453|\n",
      "|           Ionia, MI| 4428|\n",
      "|San Antonio-New B...| 4373|\n",
      "|        Danville, VA| 4257|\n",
      "|Atlanta-Sandy Spr...| 4236|\n",
      "|New Haven-Milford...| 4007|\n",
      "|         Jackson, MS| 3839|\n",
      "+--------------------+-----+\n",
      "only showing top 20 rows\n",
      "\n"
     ]
    }
   ],
   "source": [
    "# 查看用户交互时位置的取值\n",
    "df.groupBy('location').count().orderBy('count', ascending=False).show()"
   ]
  },
  {
   "cell_type": "markdown",
   "metadata": {},
   "source": [
    "软件使用量排名最高的三个城市分别是：洛杉矶、纽约和波士顿。"
   ]
  },
  {
   "cell_type": "code",
   "execution_count": 40,
   "metadata": {},
   "outputs": [
    {
     "name": "stdout",
     "output_type": "stream",
     "text": [
      "+------+------+\n",
      "|method| count|\n",
      "+------+------+\n",
      "|   PUT|257818|\n",
      "|   GET| 20336|\n",
      "+------+------+\n",
      "\n"
     ]
    }
   ],
   "source": [
    "# 查看用户请求方式的取值\n",
    "df.groupBy('method').count().show()"
   ]
  },
  {
   "cell_type": "code",
   "execution_count": 41,
   "metadata": {},
   "outputs": [
    {
     "name": "stdout",
     "output_type": "stream",
     "text": [
      "+--------------------+------+\n",
      "|                page| count|\n",
      "+--------------------+------+\n",
      "|            NextSong|228108|\n",
      "|           Thumbs Up| 12551|\n",
      "|                Home| 10082|\n",
      "|     Add to Playlist|  6526|\n",
      "|          Add Friend|  4277|\n",
      "|         Roll Advert|  3933|\n",
      "|              Logout|  3226|\n",
      "|         Thumbs Down|  2546|\n",
      "|           Downgrade|  2055|\n",
      "|            Settings|  1514|\n",
      "|                Help|  1454|\n",
      "|             Upgrade|   499|\n",
      "|               About|   495|\n",
      "|       Save Settings|   310|\n",
      "|               Error|   252|\n",
      "|      Submit Upgrade|   159|\n",
      "|    Submit Downgrade|    63|\n",
      "|              Cancel|    52|\n",
      "|Cancellation Conf...|    52|\n",
      "+--------------------+------+\n",
      "\n"
     ]
    }
   ],
   "source": [
    "# 查看网页属性\n",
    "df.groupBy('page').count().orderBy('count', ascending=False).show()"
   ]
  },
  {
   "cell_type": "markdown",
   "metadata": {},
   "source": [
    "访问最多的页面是Next Song页面，其次是Thumbs Up点赞页面，再次是Home页面及主页。"
   ]
  },
  {
   "cell_type": "code",
   "execution_count": 42,
   "metadata": {},
   "outputs": [
    {
     "name": "stdout",
     "output_type": "stream",
     "text": [
      "+-------+--------------------+\n",
      "|summary|        registration|\n",
      "+-------+--------------------+\n",
      "|  count|              278154|\n",
      "|   mean|1.535358834084427...|\n",
      "| stddev| 3.291321616327586E9|\n",
      "|    min|       1521380675000|\n",
      "|    max|       1543247354000|\n",
      "+-------+--------------------+\n",
      "\n"
     ]
    }
   ],
   "source": [
    "# 查看请求注册状态的描述统计量\n",
    "df.select('registration').describe().show()"
   ]
  },
  {
   "cell_type": "code",
   "execution_count": 43,
   "metadata": {},
   "outputs": [
    {
     "name": "stdout",
     "output_type": "stream",
     "text": [
      "+---------+-----+\n",
      "|sessionId|count|\n",
      "+---------+-----+\n",
      "|     1840| 1282|\n",
      "|      316| 1223|\n",
      "|      236|  873|\n",
      "|      635|  855|\n",
      "|      368|  777|\n",
      "|      731|  758|\n",
      "|       76|  754|\n",
      "|      123|  751|\n",
      "|      436|  742|\n",
      "|      344|  708|\n",
      "|     2305|  699|\n",
      "|      827|  695|\n",
      "|      377|  689|\n",
      "|        1|  680|\n",
      "|     2056|  668|\n",
      "|      132|  668|\n",
      "|     1483|  656|\n",
      "|      479|  651|\n",
      "|     1150|  642|\n",
      "|      529|  637|\n",
      "+---------+-----+\n",
      "only showing top 20 rows\n",
      "\n"
     ]
    }
   ],
   "source": [
    "# 查看请SessionId的取值\n",
    "df.groupBy('sessionId').count().orderBy('count', ascending=False).show()"
   ]
  },
  {
   "cell_type": "code",
   "execution_count": 44,
   "metadata": {},
   "outputs": [
    {
     "name": "stdout",
     "output_type": "stream",
     "text": [
      "+------+------+\n",
      "|status| count|\n",
      "+------+------+\n",
      "|   200|254718|\n",
      "|   307| 23184|\n",
      "|   404|   252|\n",
      "+------+------+\n",
      "\n"
     ]
    }
   ],
   "source": [
    "# 查看请求返回状态的取值\n",
    "df.groupBy('status').count().sort(desc(\"count\")).show()"
   ]
  },
  {
   "cell_type": "markdown",
   "metadata": {},
   "source": [
    "- 200: 请求成功\n",
    "- 307: 临时重定向\n",
    "- 404: 服务器无法根据客户端的请求找到资源（网页）\n",
    "\n",
    "200和307均可以返回页面，能返回正确页面的请求状态占大多数，只有极少数时候不能返回请求资源。"
   ]
  },
  {
   "cell_type": "code",
   "execution_count": 45,
   "metadata": {},
   "outputs": [
    {
     "name": "stdout",
     "output_type": "stream",
     "text": [
      "+-------+--------------------+\n",
      "|summary|                  ts|\n",
      "+-------+--------------------+\n",
      "|  count|              278154|\n",
      "|   mean|1.540958915431871...|\n",
      "| stddev|1.5068287123306298E9|\n",
      "|    min|       1538352117000|\n",
      "|    max|       1543799476000|\n",
      "+-------+--------------------+\n",
      "\n"
     ]
    }
   ],
   "source": [
    "# 查看时间戳的取值\n",
    "df.select('ts').describe().show()"
   ]
  },
  {
   "cell_type": "code",
   "execution_count": 46,
   "metadata": {
    "scrolled": true
   },
   "outputs": [
    {
     "name": "stdout",
     "output_type": "stream",
     "text": [
      "本数据集的采集的时间范围是2018-10-01 00:01:57至2018-12-03 01:11:16\n"
     ]
    }
   ],
   "source": [
    "# 查看本数据集的时间范围\n",
    "get_datetime = udf(lambda x: datetime.datetime.fromtimestamp(x / 1000.0).strftime(\"%Y-%m-%d %H:%M:%S\"))\n",
    "start_time = df.select(\"ts\").withColumn(\"datetime\", get_datetime(\"ts\")).sort(asc(\"datetime\")).select(\"datetime\").take(1)[0][0]\n",
    "stop_time = df.select(\"ts\").withColumn(\"datetime\", get_datetime(\"ts\")).sort(desc(\"datetime\")).select(\"datetime\").take(1)[0][0]\n",
    "print(\"本数据集的采集的时间范围是{}至{}\".format(start_time, stop_time))"
   ]
  },
  {
   "cell_type": "code",
   "execution_count": 47,
   "metadata": {
    "scrolled": true
   },
   "outputs": [
    {
     "name": "stdout",
     "output_type": "stream",
     "text": [
      "+--------------------+\n",
      "|           userAgent|\n",
      "+--------------------+\n",
      "|\"Mozilla/5.0 (Mac...|\n",
      "|\"Mozilla/5.0 (Win...|\n",
      "|Mozilla/5.0 (X11;...|\n",
      "|\"Mozilla/5.0 (Mac...|\n",
      "|\"Mozilla/5.0 (Mac...|\n",
      "|Mozilla/5.0 (Maci...|\n",
      "|Mozilla/5.0 (Wind...|\n",
      "|Mozilla/5.0 (Wind...|\n",
      "|Mozilla/5.0 (comp...|\n",
      "|\"Mozilla/5.0 (Win...|\n",
      "|Mozilla/5.0 (Maci...|\n",
      "|\"Mozilla/5.0 (Win...|\n",
      "|\"Mozilla/5.0 (iPh...|\n",
      "|\"Mozilla/5.0 (Win...|\n",
      "|Mozilla/5.0 (Wind...|\n",
      "|Mozilla/5.0 (comp...|\n",
      "|Mozilla/5.0 (comp...|\n",
      "|\"Mozilla/5.0 (Mac...|\n",
      "|\"Mozilla/5.0 (Mac...|\n",
      "|\"Mozilla/5.0 (Win...|\n",
      "+--------------------+\n",
      "only showing top 20 rows\n",
      "\n"
     ]
    }
   ],
   "source": [
    "# 查看userAgent的取值\n",
    "df.select('userAgent').dropDuplicates().show()"
   ]
  },
  {
   "cell_type": "code",
   "execution_count": 48,
   "metadata": {},
   "outputs": [
    {
     "data": {
      "text/plain": [
       "225"
      ]
     },
     "execution_count": 48,
     "metadata": {},
     "output_type": "execute_result"
    }
   ],
   "source": [
    "# 查看用户的数量\n",
    "df.select('userId').dropDuplicates().count()"
   ]
  },
  {
   "cell_type": "code",
   "execution_count": 49,
   "metadata": {},
   "outputs": [
    {
     "name": "stdout",
     "output_type": "stream",
     "text": [
      "+------+-----+\n",
      "|userId|count|\n",
      "+------+-----+\n",
      "|    39| 9632|\n",
      "|    92| 7230|\n",
      "|   140| 6880|\n",
      "|300011| 5732|\n",
      "|   124| 4825|\n",
      "|300021| 4659|\n",
      "|300017| 4428|\n",
      "|    85| 4370|\n",
      "|    42| 4257|\n",
      "|200023| 3769|\n",
      "|     6| 3761|\n",
      "|    29| 3603|\n",
      "|    54| 3437|\n",
      "|   100| 3214|\n",
      "|     9| 3191|\n",
      "|   126| 3102|\n",
      "|300015| 3051|\n",
      "|    91| 3014|\n",
      "|    98| 2891|\n",
      "|    74| 2887|\n",
      "+------+-----+\n",
      "only showing top 20 rows\n",
      "\n"
     ]
    }
   ],
   "source": [
    "# 查看用户的交互次数排行\n",
    "df.groupBy('userId').count().orderBy('count', ascending=False).show()"
   ]
  },
  {
   "cell_type": "markdown",
   "metadata": {},
   "source": [
    "总共有225个用户，在该软件上交互次数最多的用户ID为39."
   ]
  },
  {
   "cell_type": "code",
   "execution_count": 50,
   "metadata": {
    "scrolled": true
   },
   "outputs": [
    {
     "data": {
      "image/png": "[encoded data removed]",
      "text/plain": [
       "<matplotlib.figure.Figure at 0x7f7d3ed756d8>"
      ]
     },
     "metadata": {
      "needs_background": "light"
     },
     "output_type": "display_data"
    }
   ],
   "source": [
    "# 绘图查看用户的交互数量分布情况\n",
    "pd_users = df.groupBy('userId').count().toPandas()\n",
    "pd_users['count'].hist(bins=30)\n",
    "plt.xlabel(\"Number of user interactions\")\n",
    "plt.ylabel(\"Count\")\n",
    "plt.title(\"Distribution plot of user interactions\")\n",
    "plt.show()"
   ]
  },
  {
   "cell_type": "markdown",
   "metadata": {},
   "source": [
    "可以看出，用户的交互次数为长尾分布，大多数用户的交互次数在2000次以下，只有少部分用户的交互次数很高。"
   ]
  },
  {
   "cell_type": "code",
   "execution_count": 51,
   "metadata": {},
   "outputs": [
    {
     "name": "stdout",
     "output_type": "stream",
     "text": [
      "+------+--------------+\n",
      "|userId|session_counts|\n",
      "+------+--------------+\n",
      "|    39|           107|\n",
      "|    92|            86|\n",
      "|200023|            76|\n",
      "|300011|            76|\n",
      "|   140|            71|\n",
      "|300017|            63|\n",
      "|300021|            58|\n",
      "|    42|            47|\n",
      "|    85|            41|\n",
      "|    35|            38|\n",
      "|    54|            37|\n",
      "|200020|            36|\n",
      "|   100|            35|\n",
      "|    29|            34|\n",
      "|300015|            33|\n",
      "|    95|            33|\n",
      "|    13|            33|\n",
      "|    30|            32|\n",
      "|     9|            31|\n",
      "|   126|            30|\n",
      "+------+--------------+\n",
      "only showing top 20 rows\n",
      "\n"
     ]
    }
   ],
   "source": [
    "# 查看用户打开app的次数排行\n",
    "df.groupBy('userId').agg(countDistinct(col(\"sessionId\")).alias(\"session_counts\")).orderBy(desc(\"session_counts\")).show()"
   ]
  },
  {
   "cell_type": "markdown",
   "metadata": {},
   "source": [
    "同样是ID为39的用户打开app的次数最多"
   ]
  },
  {
   "cell_type": "code",
   "execution_count": 52,
   "metadata": {},
   "outputs": [
    {
     "data": {
      "image/png": "[encoded data removed]",
      "text/plain": [
       "<matplotlib.figure.Figure at 0x7f7d3ccc6c50>"
      ]
     },
     "metadata": {
      "needs_background": "light"
     },
     "output_type": "display_data"
    }
   ],
   "source": [
    "# 绘图查看用户打开app次数的分布情况\n",
    "pd_users = df.groupBy('userId').agg(countDistinct(col(\"sessionId\")).alias(\"session_counts\")).toPandas()\n",
    "pd_users['session_counts'].hist(bins=30)\n",
    "plt.xlabel(\"Number of session\")\n",
    "plt.ylabel(\"Count\")\n",
    "plt.title(\"Distribution plot of session counts\")\n",
    "plt.show()"
   ]
  },
  {
   "cell_type": "markdown",
   "metadata": {},
   "source": [
    "## 3.3 探索多个变量\n",
    "\n",
    "主要探索Churn列和其他列的相关关系，以便初步观察留存用户和流失用户之间的差异和练习。"
   ]
  },
  {
   "cell_type": "code",
   "execution_count": 53,
   "metadata": {},
   "outputs": [
    {
     "data": {
      "image/png": "[encoded data removed]",
      "text/plain": [
       "<matplotlib.figure.Figure at 0x7f7d3cba2588>"
      ]
     },
     "metadata": {
      "needs_background": "light"
     },
     "output_type": "display_data"
    }
   ],
   "source": [
    "# 探索听歌曲的artist数量和用户是否流失的关系\n",
    "# 获取用户听歌的artist数量的dataframe\n",
    "df_artist = df.groupBy([\"userId\"])\\\n",
    "    .agg({\"churn\": \"sum\", \"artist\": \"count\"})\\\n",
    "    .withColumnRenamed(\"sum(churn)\", \"churn\")\\\n",
    "    .withColumnRenamed(\"count(artist)\", \"artist_count\").toPandas()\n",
    "# 根据churn画出artist数量的箱线图\n",
    "df_artist.boxplot(column=\"artist_count\", by=\"churn\")\n",
    "plt.title(\"Boxplot of artist count grouped by churn\")\n",
    "plt.suptitle('')\n",
    "plt.xticks([1, 2], [\"not churn\", \"churn\"])\n",
    "plt.xlabel(\"\")\n",
    "plt.ylabel(\"artist count\")\n",
    "plt.show()"
   ]
  },
  {
   "cell_type": "markdown",
   "metadata": {},
   "source": [
    "流失用户听歌的artist数量整体上更少，中位数、最大值均相对偏低。"
   ]
  },
  {
   "cell_type": "code",
   "execution_count": 54,
   "metadata": {},
   "outputs": [
    {
     "data": {
      "image/png": "[encoded data removed]",
      "text/plain": [
       "<matplotlib.figure.Figure at 0x7f7d3cbbee48>"
      ]
     },
     "metadata": {
      "needs_background": "light"
     },
     "output_type": "display_data"
    }
   ],
   "source": [
    "# 探索不同性别和用户是否流失的关系\n",
    "# 获取按照用户ID和性别分组的流失数据框\n",
    "df_gender = df.groupBy([\"userId\", \"gender\"]).agg({\"churn\": \"sum\"}).withColumnRenamed(\"sum(churn)\", \"churn\")\n",
    "# 获取性别列表和流失与否列表\n",
    "genders = df_gender.select(\"gender\").dropDuplicates().collect()\n",
    "churns = df_gender.select(\"churn\").dropDuplicates().collect()\n",
    "# 创建churn对应的list以便\n",
    "churns_dict = {0: \"not churn\", 1: \"churn\"}\n",
    "churns_str = []\n",
    "for churn in churns:\n",
    "    churns_str.append(churns_dict[churn[0]])\n",
    "# 创建按gender为行标，churn为列标的用户数量数据\n",
    "users_genders_churns = []\n",
    "for gender in genders:\n",
    "    gender = gender[0]\n",
    "    temp = []\n",
    "    for churn in churns:\n",
    "        churn = churn[0]\n",
    "        users_count = df_gender.filter((df_gender[\"gender\"] == gender) & (df_gender[\"churn\"] == churn)).count()\n",
    "        temp.append(users_count)\n",
    "    users_genders_churns.append(temp)\n",
    "# 根据churn画出性别分布的柱状图\n",
    "fig = plt.figure(\"Barplot of user counts in different gender grouped by churn\", figsize=(6,6))\n",
    "ax = fig.add_subplot(111)\n",
    "colors = ['r', 'g']\n",
    "x_axis = np.arange(len(users_genders_churns[0]))\n",
    "for i in range(len(users_genders_churns)):\n",
    "    ax.bar(x_axis, users_genders_churns[i], width=0.2, \n",
    "           bottom=np.sum(users_genders_churns[:i], axis=0), \n",
    "           color=colors[i], alpha=0.5, label=genders[i][0])\n",
    "plt.legend()\n",
    "plt.xticks(x_axis, churns_str)\n",
    "plt.show()"
   ]
  },
  {
   "cell_type": "code",
   "execution_count": 55,
   "metadata": {},
   "outputs": [
    {
     "data": {
      "image/png": "[encoded data removed]",
      "text/plain": [
       "<matplotlib.figure.Figure at 0x7f7d3ccb52b0>"
      ]
     },
     "metadata": {
      "needs_background": "light"
     },
     "output_type": "display_data"
    }
   ],
   "source": [
    "# 绘制付费与否和是否流失的关系\n",
    "# 创建paid列，1表示付费，0表示免费\n",
    "flag_paid = udf(lambda x: 1 if x == \"paid\" else 0, IntegerType())\n",
    "# 在创建paid列时，只要用户付费过一次就认为用户为付费用户\n",
    "df_level = df.withColumn(\"paid\", flag_paid(\"level\")).select([\"userId\", \"paid\", \"churn\"]) \\\n",
    "    .groupBy(\"userId\").agg({\"paid\": \"sum\", \"churn\": \"sum\"}) \\\n",
    "    .withColumnRenamed(\"sum(paid)\", \"paid_int\").withColumnRenamed(\"sum(churn)\", \"churn_int\")\n",
    "# 将0-1类型的类别数据paid,churn列转换为string类型\n",
    "paid_to_str = udf(lambda x: \"paid\" if x >= 1 else \"free\", StringType())\n",
    "churn_to_str = udf(lambda x: \"churn\" if x >= 1 else \"not churn\", StringType())\n",
    "df_level = df_level.withColumn(\"level\", paid_to_str(\"paid_int\")).withColumn(\"churn_str\", churn_to_str(\"churn_int\"))\n",
    "# 创建绘图的数据框\n",
    "level_str = [\"paid\", \"free\"]\n",
    "churn_str = [\"churn\", \"not churn\"]\n",
    "counts_level_churn = []\n",
    "for level in level_str:\n",
    "    temp = []\n",
    "    for churn in churn_str:\n",
    "        temp.append(df_level.filter((df_level.level == level) & (df_level.churn_str == churn)).count())\n",
    "    counts_level_churn.append(temp)\n",
    "pd_level_churn = pd.DataFrame(counts_level_churn, index=level_str, columns=churn_str)\n",
    "# 绘制付费用户的流失柱状图和免费用户的流失柱状图\n",
    "pd_level_churn.plot.bar(rot=0)\n",
    "plt.title(\"Bar plot of churned and not churned users grouped by user level\")\n",
    "plt.ylabel(\"user counts\")\n",
    "plt.xlabel(\"user level\")\n",
    "plt.show()"
   ]
  },
  {
   "cell_type": "markdown",
   "metadata": {},
   "source": [
    "可以看出，付过费的用户流失率略低，说明付过费的用户更认可该产品，也可能是因为产品得到了认可才付费的。"
   ]
  },
  {
   "cell_type": "code",
   "execution_count": 56,
   "metadata": {
    "scrolled": true
   },
   "outputs": [
    {
     "data": {
      "image/png": "[encoded data removed]",
      "text/plain": [
       "<matplotlib.figure.Figure at 0x7f7d3cbc8898>"
      ]
     },
     "metadata": {
      "needs_background": "light"
     },
     "output_type": "display_data"
    }
   ],
   "source": [
    "# 绘制听歌数量和用户流失的关系，通过箱线图展现\n",
    "# 这里采用page特征的取值NextSong表示听歌一次\n",
    "# 获取用户听歌数量的数据框\n",
    "flag_next_song = udf(lambda x: 1 if x == \"NextSong\" else 0, IntegerType())\n",
    "df_songs = df.withColumn(\"NextSong\", flag_next_song(\"page\")).select([\"userId\", \"NextSong\", \"churn\"]) \\\n",
    "    .groupBy(\"userId\").agg({\"NextSong\": \"sum\", \"churn\": \"sum\"}) \\\n",
    "    .withColumnRenamed(\"sum(NextSong)\", \"song_count\") \\\n",
    "    .withColumnRenamed(\"sum(churn)\", \"churn\").toPandas()\n",
    "# 根据churn画出听歌数量的箱线图\n",
    "df_songs.boxplot(column=\"song_count\", by=\"churn\")\n",
    "plt.title(\"Boxplot of song count grouped by churn\")\n",
    "plt.suptitle('')\n",
    "plt.xticks([1, 2], [\"not churn\", \"churn\"])\n",
    "plt.xlabel(\"\")\n",
    "plt.ylabel(\"song count\")\n",
    "plt.show()"
   ]
  },
  {
   "cell_type": "code",
   "execution_count": 57,
   "metadata": {},
   "outputs": [
    {
     "data": {
      "image/png": "[encoded data removed]",
      "text/plain": [
       "<matplotlib.figure.Figure at 0x7f7d3ca56b38>"
      ]
     },
     "metadata": {
      "needs_background": "light"
     },
     "output_type": "display_data"
    }
   ],
   "source": [
    "# 绘制Add to Playlist的歌曲数量和用户流失的关系，通过箱线图展现\n",
    "# 这里采用page特征的取值Add to Playlist表示收藏一首歌曲\n",
    "# 获取收藏歌曲数量的数据框\n",
    "flag_playlist = udf(lambda x: 1 if x == \"Add to Playlist\" else 0, IntegerType())\n",
    "df_playlist = df.withColumn(\"playlist\", flag_playlist(\"page\")).select([\"userId\", \"playlist\", \"churn\"]) \\\n",
    "    .groupBy(\"userId\").agg({\"playlist\": \"sum\", \"churn\": \"sum\"}) \\\n",
    "    .withColumnRenamed(\"sum(playlist)\", \"playlist_songs\") \\\n",
    "    .withColumnRenamed(\"sum(churn)\", \"churn\").toPandas()\n",
    "# 根据churn画出收藏歌曲数量的箱线图\n",
    "df_playlist.boxplot(column=\"playlist_songs\", by=\"churn\")\n",
    "plt.title(\"Boxplot of song count in playlist grouped by churn\")\n",
    "plt.suptitle('')\n",
    "plt.xticks([1, 2], [\"not churn\", \"churn\"])\n",
    "plt.xlabel(\"\")\n",
    "plt.ylabel(\"song count in playlist\")\n",
    "plt.show()"
   ]
  },
  {
   "cell_type": "code",
   "execution_count": 58,
   "metadata": {},
   "outputs": [
    {
     "data": {
      "image/png": "[encoded data removed]",
      "text/plain": [
       "<matplotlib.figure.Figure at 0x7f7d3c97d940>"
      ]
     },
     "metadata": {
      "needs_background": "light"
     },
     "output_type": "display_data"
    }
   ],
   "source": [
    "# 绘制Add friend页面点击次数和用户流失的关系，通过箱线图展现\n",
    "# 这里认为点击一次Add friend为添加一次朋友，看看是不是经常添加朋友的用户流失可能性更小\n",
    "# 获取添加朋友数量的数据框\n",
    "flag_friend = udf(lambda x: 1 if x == \"Add Friend\" else 0, IntegerType())\n",
    "df_friend = df.withColumn(\"friend\", flag_friend(\"page\")).select([\"userId\", \"friend\", \"churn\"]) \\\n",
    "    .groupBy(\"userId\").agg({\"friend\": \"sum\", \"churn\": \"sum\"}) \\\n",
    "    .withColumnRenamed(\"sum(friend)\", \"friend_count\") \\\n",
    "    .withColumnRenamed(\"sum(churn)\", \"churn\").toPandas()\n",
    "# 根据churn画出收藏歌曲数量的箱线图\n",
    "df_friend.boxplot(column=\"friend_count\", by=\"churn\")\n",
    "plt.title(\"Boxplot of friend count grouped by churn\")\n",
    "plt.suptitle('')\n",
    "plt.xticks([1, 2], [\"not churn\", \"churn\"])\n",
    "plt.xlabel(\"\")\n",
    "plt.ylabel(\"friend count\")\n",
    "plt.show()"
   ]
  },
  {
   "cell_type": "code",
   "execution_count": 59,
   "metadata": {},
   "outputs": [
    {
     "data": {
      "image/png": "[encoded data removed]",
      "text/plain": [
       "<matplotlib.figure.Figure at 0x7f7d3c971208>"
      ]
     },
     "metadata": {
      "needs_background": "light"
     },
     "output_type": "display_data"
    }
   ],
   "source": [
    "# 绘制用户交互次数和用户流失的关系，通过箱线图展现\n",
    "# 这里认为用户的每一次操作就是一次交互，观察是否交互多的用户流失率更低\n",
    "# 获取用户交互数量的数据框\n",
    "df_interact = df.groupBy(\"userId\").agg({\"userId\": \"count\", \"churn\": \"sum\"}) \\\n",
    "    .withColumnRenamed(\"count(userId)\", \"interact_count\") \\\n",
    "    .withColumnRenamed(\"sum(churn)\", \"churn\").toPandas()\n",
    "# 根据churn画出收藏歌曲数量的箱线图\n",
    "df_interact.boxplot(column=\"interact_count\", by=\"churn\")\n",
    "plt.title(\"Boxplot of interact count grouped by churn\")\n",
    "plt.suptitle('')\n",
    "plt.xticks([1, 2], [\"not churn\", \"churn\"])\n",
    "plt.xlabel(\"\")\n",
    "plt.ylabel(\"interact count\")\n",
    "plt.show()"
   ]
  },
  {
   "cell_type": "code",
   "execution_count": 60,
   "metadata": {},
   "outputs": [
    {
     "data": {
      "image/png": "[encoded data removed]",
      "text/plain": [
       "<matplotlib.figure.Figure at 0x7f7d3c8e2b00>"
      ]
     },
     "metadata": {
      "needs_background": "light"
     },
     "output_type": "display_data"
    }
   ],
   "source": [
    "# 绘制打开app次数和用户流失的关系，通过箱线图展现\n",
    "# 这里认为产生一个sessionId就是打开一次app，观察是否打开挨app次数多的用户流失率更低\n",
    "# 获取打开app次数的数据框\n",
    "df_session = df.groupBy(\"userId\").agg(countDistinct(\"sessionId\").alias(\"session_count\"), Fsum(\"churn\").alias(\"churn\")).toPandas()\n",
    "# 根据churn画出打开app数量的箱线图\n",
    "df_session.boxplot(column=\"session_count\", by=\"churn\")\n",
    "plt.title(\"Boxplot of session count grouped by churn\")\n",
    "plt.suptitle('')\n",
    "plt.xticks([1, 2], [\"not churn\", \"churn\"])\n",
    "plt.xlabel(\"\")\n",
    "plt.ylabel(\"session count\")\n",
    "plt.show()"
   ]
  },
  {
   "cell_type": "code",
   "execution_count": 61,
   "metadata": {},
   "outputs": [
    {
     "data": {
      "image/png": "[encoded data removed]",
      "text/plain": [
       "<matplotlib.figure.Figure at 0x7f7d3c85d588>"
      ]
     },
     "metadata": {
      "needs_background": "light"
     },
     "output_type": "display_data"
    }
   ],
   "source": [
    "# 绘制注册天数和用户流失的关系，通过箱线图展现\n",
    "# 这里认为注册天数就是用户最后一次在app的记录，到注册时的天数\n",
    "get_regDay = udf(lambda x, y: int((x - y)/(1000*60*60*24)), IntegerType())\n",
    "df_reg = df.withColumn(\"regDay\", get_regDay(df.ts, df.registration)).select([\"userId\", \"regDay\", \"churn\"])\\\n",
    "    .groupBy(\"userId\").agg(Fmax(\"regDay\").alias(\"regDay\"), Fsum(\"churn\").alias(\"churn\")).toPandas()\n",
    "# 根据churn画出收藏歌曲数量的箱线图\n",
    "df_reg.boxplot(column=\"regDay\", by=\"churn\")\n",
    "plt.title(\"Boxplot of number of days registered grouped by churn\")\n",
    "plt.suptitle('')\n",
    "plt.xticks([1, 2], [\"not churn\", \"churn\"])\n",
    "plt.xlabel(\"\")\n",
    "plt.ylabel(\"Number of days registered\")\n",
    "plt.show()"
   ]
  },
  {
   "cell_type": "code",
   "execution_count": 62,
   "metadata": {},
   "outputs": [
    {
     "data": {
      "image/png": "[encoded data removed]",
      "text/plain": [
       "<matplotlib.figure.Figure at 0x7f7d3c7e9668>"
      ]
     },
     "metadata": {
      "needs_background": "light"
     },
     "output_type": "display_data"
    }
   ],
   "source": [
    "# 按小时统计交互次数\n",
    "get_hour = udf(lambda x: datetime.datetime.fromtimestamp(x / 1000.0).hour)\n",
    "df_hour = df.withColumn(\"hour\", get_hour(df.ts))\n",
    "interact_in_hour_pd = df_hour.groupBy(\"hour\").count().orderBy(df_hour[\"hour\"].cast(\"float\")).toPandas()\n",
    "# 绘出按时间统计的用户交互次数\n",
    "plt.bar(interact_in_hour_pd[\"hour\"].astype(int), interact_in_hour_pd[\"count\"])\n",
    "plt.xlim(-1, 24)\n",
    "plt.ylim(0, 1.2 * max(interact_in_hour_pd[\"count\"]))\n",
    "plt.xlabel(\"Hour\")\n",
    "plt.ylabel(\"interaction number\")\n",
    "plt.title(\"User interaction counts in 24 hours\");"
   ]
  },
  {
   "cell_type": "markdown",
   "metadata": {},
   "source": [
    "探索性数据分析的总结：\n",
    "- 定义客户流失的数据\n",
    "    - 定义churn列，1表示用户点击了\"Cancellation Confirmation\"页面。\n",
    "    - 定义phase列，通过定义该列理解了何谓“确认取消”页面，何谓流失用户：即离开Sparkify，并且没有返回。\n",
    "- 探索单个变量\n",
    "    - 本数据集总共有225个独立的用户，流失的用户占比为23.11%\n",
    "    - 本数据集中在该软件上交互次数最多的用户ID为39\n",
    "    - 本数据集中用户的交互次数为长尾分布，大多数用户的交互次数在2000次以下\n",
    "    - 本数据集包含的艺术家数量为17656\n",
    "    - 本数据集包含的歌曲数量为58481\n",
    "    - 本数据集播放量最高艺术家是Kings Of Leon\n",
    "    - 本数据集播放量最高的歌曲是You're The One，排名第二的Undo我也经常听，哈哈\n",
    "    - 本数据集大多数用户都处于登陆（Logged in）状态\n",
    "    - 本数据集的用户中男性用户略多余女性用户\n",
    "    - 本数据集的用户大都在付费状态下进行操作，说明软件的付费比率还是比较高的\n",
    "    - 本数据集中软件使用量排名最高的三个城市分别是：洛杉矶、纽约和波士顿\n",
    "    - 本数据集中访问最多的页面是Next Song页面，其次是Thumbs Up点赞页面，再次是Home页面及主页\n",
    "    - 本数据集中用户的请求有252个返回404，可能存在部分需要修复的页面\n",
    "    - 本数据集包含用户在2018年10月1日至2018年12月31日的交互数据\n",
    "- 探索多个变量\n",
    "    - 流失用户所听艺术家的歌曲数量相对较少\n",
    "    - 流失用户所歌曲数量相对较少\n",
    "    - 流失用户添加歌曲至播放清单的数量相对更少\n",
    "    - 流失用户添加朋友的数量相对更少\n",
    "    - 流失用户的交互次数相对更少\n",
    "    - 流失用户打开app的次数相对更少\n",
    "    - 流失用户注册天数明显更短\n",
    "    - 留存用户中男女比例接近，流失用户中男性略多于女性\n",
    "    - 付过费的用户流失率略低，说明付过费的用户更认可该产品，也可能是因为产品得到了认可才付费的。\n",
    "    - 用户在14时到16时迎来一个使用的小高峰"
   ]
  },
  {
   "cell_type": "markdown",
   "metadata": {},
   "source": [
    "# 4. 特征工程\n",
    "熟悉了数据之后，就可以构建你认为会对训练模型帮助最大的特征。要处理完整数据集，你可以按照下述步骤：\n",
    "- 写一个脚本来从小数据集中提取你需要的特征\n",
    "- 确保你的脚本可以拓展到大数据集上，使用之前教过的最佳实践原则\n",
    "- 在完整数据集上运行你的脚本，按运行情况调试代码\n",
    "\n",
    "如果是在教室的 workspace，你可以直接用里面提供的小数据集来提取特征。确保当你开始使用 Spark 集群的时候，把上述的成果迁移到大数据集上。"
   ]
  },
  {
   "cell_type": "markdown",
   "metadata": {},
   "source": [
    "## 4.1 数值型特征\n",
    "\n",
    "根据以上的分析，创建如下几个数值型特征\n",
    "- 听歌数量(numSongs)：认为每点击一次NextSong表示听歌一首\n",
    "- 播放清单歌曲数量(numInList)：认为每点击一次Add to PlayList添加一首歌曲\n",
    "- 添加朋友数量(numFriends)：认为每点击一次Add Friend添加一个朋友\n",
    "- 打开app次数(numSession)：认为一个新的sessionId表示打开一次app\n",
    "- 注册天数(regDay)：注册时间到认为最后一次打开app的记录的天数"
   ]
  },
  {
   "cell_type": "code",
   "execution_count": 63,
   "metadata": {},
   "outputs": [],
   "source": [
    "# 创建听歌数量特征\n",
    "df_numSongs = df.withColumn(\"NextSong\", flag_next_song(\"page\")).select([\"userId\", \"NextSong\", \"churn\"]) \\\n",
    "    .groupBy(\"userId\").agg(Fsum(\"NextSong\").alias(\"numSongs\"), Fsum(\"churn\").alias(\"churn\"))"
   ]
  },
  {
   "cell_type": "code",
   "execution_count": 64,
   "metadata": {},
   "outputs": [],
   "source": [
    "# 创建播放清单歌曲数量的特征\n",
    "df_numInList = df.withColumn(\"playlist\", flag_playlist(\"page\")).select([\"userId\", \"playlist\"]) \\\n",
    "    .groupBy(\"userId\").agg(Fsum(\"playlist\").alias(\"numInList\"))"
   ]
  },
  {
   "cell_type": "code",
   "execution_count": 65,
   "metadata": {},
   "outputs": [],
   "source": [
    "# 创建添加朋友数量特征\n",
    "df_numFriends = df.withColumn(\"friend\", flag_friend(\"page\")).select([\"userId\", \"friend\"]) \\\n",
    "    .groupBy(\"userId\").agg(Fsum(\"friend\").alias(\"numFriends\"))"
   ]
  },
  {
   "cell_type": "code",
   "execution_count": 66,
   "metadata": {},
   "outputs": [],
   "source": [
    "# 创建打开app次数特征\n",
    "df_numSession = df.groupBy(\"userId\").agg(countDistinct(\"sessionId\").alias(\"session_count\"))"
   ]
  },
  {
   "cell_type": "code",
   "execution_count": 67,
   "metadata": {},
   "outputs": [],
   "source": [
    "# 创建注册天数特征\n",
    "df_regDay = df.withColumn(\"regDay\", get_regDay(df.ts, df.registration)).select([\"userId\", \"regDay\"])\\\n",
    "    .groupBy(\"userId\").agg(Fmax(\"regDay\").alias(\"regDay\"))"
   ]
  },
  {
   "cell_type": "code",
   "execution_count": 68,
   "metadata": {},
   "outputs": [],
   "source": [
    "# 创建数值型特征的数据框\n",
    "df_numerical = df_numInList.join(df_numSession, on=\"userId\", how=\"left\") \\\n",
    "    .join(df_numFriends, on=\"userId\", how=\"left\") \\\n",
    "    .join(df_regDay, on=\"userId\", how=\"left\") \\\n",
    "    .join(df_numSongs, on=\"userId\", how=\"left\")"
   ]
  },
  {
   "cell_type": "code",
   "execution_count": 69,
   "metadata": {},
   "outputs": [
    {
     "name": "stdout",
     "output_type": "stream",
     "text": [
      "+------+---------+-------------+----------+------+--------+-----+\n",
      "|userId|numInList|session_count|numFriends|regDay|numSongs|churn|\n",
      "+------+---------+-------------+----------+------+--------+-----+\n",
      "|100010|        7|            7|         4|    55|     275|    0|\n",
      "|200002|        8|            6|         4|    70|     387|    0|\n",
      "|   125|        0|            1|         0|    71|       8|    1|\n",
      "|   124|      118|           29|        74|   131|    4079|    0|\n",
      "|    51|       52|           10|        28|    19|    2111|    1|\n",
      "|     7|        5|            7|         1|    72|     150|    0|\n",
      "|    15|       59|           15|        31|    56|    1914|    0|\n",
      "|    54|       72|           37|        33|   110|    2841|    1|\n",
      "|   155|       24|            6|        11|    23|     820|    0|\n",
      "|100014|        7|            6|         6|    85|     257|    1|\n",
      "|   132|       38|           16|        41|    66|    1928|    0|\n",
      "|   154|        1|            3|         3|    23|      84|    0|\n",
      "|   101|       61|           10|        29|    53|    1797|    1|\n",
      "|    11|       20|           16|         6|   124|     647|    0|\n",
      "|   138|       67|           15|        41|    66|    2070|    0|\n",
      "|300017|      113|           63|        63|    74|    3632|    0|\n",
      "|100021|        7|            5|         7|    64|     230|    1|\n",
      "|    29|       89|           34|        47|    60|    3028|    1|\n",
      "|    69|       33|            9|        12|    71|    1125|    0|\n",
      "|   112|        7|           10|         7|    87|     215|    0|\n",
      "+------+---------+-------------+----------+------+--------+-----+\n",
      "only showing top 20 rows\n",
      "\n"
     ]
    }
   ],
   "source": [
    "# 查看所以数值型特征\n",
    "df_numerical.show()"
   ]
  },
  {
   "cell_type": "code",
   "execution_count": 70,
   "metadata": {},
   "outputs": [
    {
     "data": {
      "text/plain": [
       "225"
      ]
     },
     "execution_count": 70,
     "metadata": {},
     "output_type": "execute_result"
    }
   ],
   "source": [
    "df_numerical.count()"
   ]
  },
  {
   "cell_type": "markdown",
   "metadata": {},
   "source": [
    "## 4.2 类别型特征\n",
    "根据以上分析，创建以下几个类别型特征：\n",
    "- 性别特征(gender)\n",
    "- 用户级别(level)\n",
    "- 用户定位特征(location)，因定位的格式一般为\"locPart1, locPart2\", 因此分为两部分处理\n",
    "    - 定位前半部分(locPart1)\n",
    "    - 定位后半部分(locPart2)"
   ]
  },
  {
   "cell_type": "code",
   "execution_count": 71,
   "metadata": {},
   "outputs": [],
   "source": [
    "# 创建性别特征\n",
    "indexer = StringIndexer(inputCol=\"gender\", outputCol=\"genderIndex\")\n",
    "df_gender = df.select([\"userId\", \"gender\"]).dropDuplicates()\n",
    "df_gender = indexer.fit(df_gender).transform(df_gender).select([\"userId\", \"genderIndex\"])\n",
    "encoder = OneHotEncoder(inputCol=\"genderIndex\", outputCol=\"genderVec\")\n",
    "df_gender = encoder.transform(df_gender).select([\"userId\", \"genderVec\"])"
   ]
  },
  {
   "cell_type": "code",
   "execution_count": 72,
   "metadata": {},
   "outputs": [
    {
     "name": "stdout",
     "output_type": "stream",
     "text": [
      "+------+---------+\n",
      "|userId|genderVec|\n",
      "+------+---------+\n",
      "|    44|(1,[],[])|\n",
      "|    46|(1,[],[])|\n",
      "|    41|(1,[],[])|\n",
      "|    72|(1,[],[])|\n",
      "|300023|(1,[],[])|\n",
      "+------+---------+\n",
      "only showing top 5 rows\n",
      "\n"
     ]
    }
   ],
   "source": [
    "# 查看性别特征\n",
    "df_gender.show(5)"
   ]
  },
  {
   "cell_type": "code",
   "execution_count": 73,
   "metadata": {},
   "outputs": [],
   "source": [
    "# 创建用户级别特征\n",
    "# 用户级别由free和paid两种类型，free转换为0，paid转换为1\n",
    "indexer = udf(lambda x: 0 if x == 'free' else 1, IntegerType())\n",
    "df_level = df.select([\"userId\", \"level\"]).withColumn(\"levelIndex\", indexer(df[\"level\"]))\n",
    "# 同时存在free和paid状态的用户均认为paid\n",
    "df_level = df_level.groupBy(\"userId\").agg(Fmax(col(\"levelIndex\")).alias(\"levelIndex\"))\n",
    "# 独热编码\n",
    "encoder = OneHotEncoder(inputCol=\"levelIndex\", outputCol=\"levelVec\")\n",
    "df_level = encoder.transform(df_level).select([\"userId\", \"levelVec\"])"
   ]
  },
  {
   "cell_type": "code",
   "execution_count": 74,
   "metadata": {},
   "outputs": [
    {
     "name": "stdout",
     "output_type": "stream",
     "text": [
      "+------+-------------+\n",
      "|userId|     levelVec|\n",
      "+------+-------------+\n",
      "|100010|(1,[0],[1.0])|\n",
      "|200002|    (1,[],[])|\n",
      "|   125|(1,[0],[1.0])|\n",
      "|    51|    (1,[],[])|\n",
      "|   124|    (1,[],[])|\n",
      "+------+-------------+\n",
      "only showing top 5 rows\n",
      "\n"
     ]
    }
   ],
   "source": [
    "# 查看用户级别特征\n",
    "df_level.show(5)"
   ]
  },
  {
   "cell_type": "code",
   "execution_count": 75,
   "metadata": {},
   "outputs": [],
   "source": [
    "# 创建用户定位特征\n",
    "get_loc1 = udf(lambda x: re.split(\"\\W+\", x)[0])\n",
    "get_loc2 = udf(lambda x: re.split(\"\\W+\", x)[-1])\n",
    "df_loc1 = df.withColumn(\"loc1\", get_loc1(col(\"location\"))).select([\"userId\", \"loc1\"]).dropDuplicates()\n",
    "df_loc2 = df.withColumn(\"loc2\", get_loc2(col(\"location\"))).select([\"userId\", \"loc2\"]).dropDuplicates()\n",
    "# 城市独热编码\n",
    "indexer = StringIndexer(inputCol=\"loc1\", outputCol=\"loc1Index\")\n",
    "df_loc1 = indexer.fit(df_loc1).transform(df_loc1).select([\"userId\", \"loc1Index\"])\n",
    "encoder = OneHotEncoder(inputCol=\"loc1Index\", outputCol=\"loc1Vec\")\n",
    "df_loc1 = encoder.transform(df_loc1).select([\"userId\", \"loc1Vec\"])\n",
    "# # 国家独热编码\n",
    "indexer = StringIndexer(inputCol=\"loc2\", outputCol=\"loc2Index\")\n",
    "df_loc2 = indexer.fit(df_loc2).transform(df_loc2).select([\"userId\", \"loc2Index\"])\n",
    "encoder = OneHotEncoder(inputCol=\"loc2Index\", outputCol=\"loc2Vec\")\n",
    "df_loc2 = encoder.transform(df_loc2).select([\"userId\", \"loc2Vec\"])"
   ]
  },
  {
   "cell_type": "code",
   "execution_count": 76,
   "metadata": {},
   "outputs": [
    {
     "name": "stdout",
     "output_type": "stream",
     "text": [
      "+------+----------------+\n",
      "|userId|         loc1Vec|\n",
      "+------+----------------+\n",
      "|    33|(106,[18],[1.0])|\n",
      "|    19|(106,[45],[1.0])|\n",
      "|    25|(106,[40],[1.0])|\n",
      "|    65|(106,[43],[1.0])|\n",
      "|    62|(106,[13],[1.0])|\n",
      "+------+----------------+\n",
      "only showing top 5 rows\n",
      "\n"
     ]
    }
   ],
   "source": [
    "# 查看定位前半部分的编码结果\n",
    "df_loc1.show(5)"
   ]
  },
  {
   "cell_type": "code",
   "execution_count": 77,
   "metadata": {},
   "outputs": [
    {
     "name": "stdout",
     "output_type": "stream",
     "text": [
      "+------+---------------+\n",
      "|userId|        loc2Vec|\n",
      "+------+---------------+\n",
      "|    73|(38,[17],[1.0])|\n",
      "|200004| (38,[6],[1.0])|\n",
      "|300020|(38,[19],[1.0])|\n",
      "|   121| (38,[0],[1.0])|\n",
      "|100017|(38,[14],[1.0])|\n",
      "+------+---------------+\n",
      "only showing top 5 rows\n",
      "\n"
     ]
    }
   ],
   "source": [
    "# 查看定位后半部分的编码结果\n",
    "df_loc2.show(5)"
   ]
  },
  {
   "cell_type": "code",
   "execution_count": 78,
   "metadata": {},
   "outputs": [],
   "source": [
    "# 创建类别型特征的总数据框\n",
    "df_category = df_gender.join(df_level, on=\"userId\", how=\"left\") \\\n",
    "    .join(df_loc1, on=\"userId\", how=\"left\") \\\n",
    "    .join(df_loc2, on=\"userId\", how=\"left\")"
   ]
  },
  {
   "cell_type": "code",
   "execution_count": 79,
   "metadata": {
    "scrolled": true
   },
   "outputs": [
    {
     "name": "stdout",
     "output_type": "stream",
     "text": [
      "+------+-------------+-------------+----------------+---------------+\n",
      "|userId|    genderVec|     levelVec|         loc1Vec|        loc2Vec|\n",
      "+------+-------------+-------------+----------------+---------------+\n",
      "|100010|    (1,[],[])|(1,[0],[1.0])|(106,[32],[1.0])|(38,[10],[1.0])|\n",
      "|200002|(1,[0],[1.0])|    (1,[],[])| (106,[5],[1.0])| (38,[4],[1.0])|\n",
      "|   125|(1,[0],[1.0])|(1,[0],[1.0])|(106,[98],[1.0])| (38,[2],[1.0])|\n",
      "|   124|    (1,[],[])|    (1,[],[])|(106,[46],[1.0])|(38,[21],[1.0])|\n",
      "|    51|(1,[0],[1.0])|    (1,[],[])|(106,[51],[1.0])|(38,[20],[1.0])|\n",
      "+------+-------------+-------------+----------------+---------------+\n",
      "only showing top 5 rows\n",
      "\n"
     ]
    }
   ],
   "source": [
    "# 查看类别型数据\n",
    "df_category.show(5)"
   ]
  },
  {
   "cell_type": "markdown",
   "metadata": {},
   "source": [
    "## 4.3 合并和处理特征\n",
    "- 所有的特征向量合并为一个向量\n",
    "- 标准化特征向量"
   ]
  },
  {
   "cell_type": "code",
   "execution_count": 80,
   "metadata": {
    "scrolled": true
   },
   "outputs": [],
   "source": [
    "# 创建包含所有特征的数据框\n",
    "df_total = df_category.join(df_numerical, on=\"userId\", how=\"left\")\n",
    "# 创建features列\n",
    "feature_columns = df_total.columns\n",
    "feature_columns.remove('userId')\n",
    "feature_columns.remove('churn')\n",
    "vecAssembler = VectorAssembler(inputCols=feature_columns, outputCol=\"features\")\n",
    "df_total = vecAssembler.transform(df_total)\n",
    "# 标准化\n",
    "scaler = StandardScaler(inputCol=\"features\", outputCol=\"features_scaled\", withMean=True)\n",
    "model = scaler.fit(df_total)\n",
    "df_total = model.transform(df_total)"
   ]
  },
  {
   "cell_type": "markdown",
   "metadata": {},
   "source": [
    "# 5. 建模\n",
    "将完整数据集分成训练集、测试集和验证集。测试几种你学过的机器学习方法。评价不同机器学习方法的准确率，根据情况调节参数。根据准确率你挑选出表现最好的那个模型，然后报告在训练集上的结果。因为流失顾客数据集很小，我建议选用 F1 score 作为优化指标。"
   ]
  },
  {
   "cell_type": "code",
   "execution_count": 81,
   "metadata": {},
   "outputs": [],
   "source": [
    "# 获取训练集、测试集和验证集\n",
    "train, test, validation = df_total.randomSplit([0.7, 0.15, 0.15], seed=78)"
   ]
  },
  {
   "cell_type": "markdown",
   "metadata": {},
   "source": [
    "## 5.1 逻辑回归"
   ]
  },
  {
   "cell_type": "code",
   "execution_count": 82,
   "metadata": {},
   "outputs": [
    {
     "name": "stdout",
     "output_type": "stream",
     "text": [
      "AUC of training dataset 0.9733333333333334\n",
      "AUC of testing dataset 0.5315789473684212\n"
     ]
    }
   ],
   "source": [
    "# 逻辑回归模型\n",
    "lr = LogisticRegression(featuresCol=\"features_scaled\", labelCol=\"churn\")\n",
    "# 训练模型\n",
    "lrModel = lr.fit(train)\n",
    "# 构建评估器，采用ROC下面积进行评估\n",
    "evaluator = BinaryClassificationEvaluator(labelCol=\"churn\", metricName=\"areaUnderROC\")\n",
    "# 获取训练数据集和测试数据集的预测\n",
    "pred_train = lrModel.transform(train)\n",
    "pred_test = lrModel.transform(test)\n",
    "# 打印metrics\n",
    "print('AUC of training dataset',evaluator.evaluate(pred_train))\n",
    "print('AUC of testing dataset',evaluator.evaluate(pred_test))"
   ]
  },
  {
   "cell_type": "markdown",
   "metadata": {},
   "source": [
    "## 5.2 随机森林"
   ]
  },
  {
   "cell_type": "code",
   "execution_count": 83,
   "metadata": {},
   "outputs": [
    {
     "name": "stdout",
     "output_type": "stream",
     "text": [
      "AUC of training dataset 0.953939393939394\n",
      "AUC of testing dataset 0.8315789473684211\n"
     ]
    }
   ],
   "source": [
    "# 随机森林模型\n",
    "rf = RandomForestClassifier(featuresCol=\"features_scaled\", labelCol=\"churn\")\n",
    "# 训练模型\n",
    "rfModel = rf.fit(train)\n",
    "# 构建评估器，采用ROC下面积进行评估\n",
    "evaluator = BinaryClassificationEvaluator(labelCol=\"churn\", metricName=\"areaUnderROC\")\n",
    "# 获取训练数据集和测试数据集的预测\n",
    "pred_train = rfModel.transform(train)\n",
    "pred_test = rfModel.transform(test)\n",
    "# 打印metrics\n",
    "print('AUC of training dataset',evaluator.evaluate(pred_train))\n",
    "print('AUC of testing dataset',evaluator.evaluate(pred_test))"
   ]
  },
  {
   "cell_type": "markdown",
   "metadata": {},
   "source": [
    "## 5.3 提升树"
   ]
  },
  {
   "cell_type": "code",
   "execution_count": 84,
   "metadata": {},
   "outputs": [
    {
     "name": "stdout",
     "output_type": "stream",
     "text": [
      "AUC of training dataset 1.0\n",
      "AUC of testing dataset 0.9052631578947368\n"
     ]
    }
   ],
   "source": [
    "# 随机森林模型\n",
    "gbt = GBTClassifier(featuresCol=\"features_scaled\", labelCol=\"churn\")\n",
    "# 训练模型\n",
    "gbtModel = gbt.fit(train)\n",
    "# 构建评估器，采用ROC下面积进行评估\n",
    "evaluator = BinaryClassificationEvaluator(labelCol=\"churn\", metricName=\"areaUnderROC\")\n",
    "# 获取训练数据集和测试数据集的预测\n",
    "pred_train = gbtModel.transform(train)\n",
    "pred_test = gbtModel.transform(test)\n",
    "# 打印metrics\n",
    "print('AUC of training dataset',evaluator.evaluate(pred_train))\n",
    "print('AUC of testing dataset',evaluator.evaluate(pred_test))"
   ]
  },
  {
   "cell_type": "markdown",
   "metadata": {},
   "source": [
    "## 5.4 模型选择\n",
    "\n",
    "基于以上逻辑回归、随机森林和提升树在测试数据集上的ROC曲线下面积指标，选择提升树作为最终的预测模型。"
   ]
  },
  {
   "cell_type": "code",
   "execution_count": 85,
   "metadata": {},
   "outputs": [
    {
     "name": "stdout",
     "output_type": "stream",
     "text": [
      "AUC of validation dataset 0.6417624521072797\n"
     ]
    }
   ],
   "source": [
    "# 对验证集进行预测\n",
    "pred_val = gbtModel.transform(validation)\n",
    "# 打印metric\n",
    "print('AUC of validation dataset',evaluator.evaluate(pred_val))"
   ]
  },
  {
   "cell_type": "markdown",
   "metadata": {},
   "source": [
    "# 最后一步\n",
    "清理你的代码，添加注释和重命名变量，使得代码更易读和易于维护。参考 Spark 项目概述页面和数据科学家毕业项目审阅要求，确保你的项目包含了毕业项目要求的所有内容，并且满足所有审阅要求。记得在 GitHub 代码库里包含一份全面的文档——README文件，以及一个网络应用程序或博客文章。"
   ]
  }
 ],
 "metadata": {
  "kernelspec": {
   "display_name": "Python 3",
   "language": "python",
   "name": "python3"
  },
  "language_info": {
   "codemirror_mode": {
    "name": "ipython",
    "version": 3
   },
   "file_extension": ".py",
   "mimetype": "text/x-python",
   "name": "python",
   "nbconvert_exporter": "python",
   "pygments_lexer": "ipython3",
   "version": "3.6.3"
  }
 },
 "nbformat": 4,
 "nbformat_minor": 2
}
